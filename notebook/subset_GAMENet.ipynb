{
 "cells": [
  {
   "cell_type": "code",
   "execution_count": 32,
   "id": "397c693d",
   "metadata": {},
   "outputs": [
    {
     "data": {
      "text/html": [
       "<style type='text/css'>\n",
       ".CodeMirror{\n",
       "    font-family: Inconsolata;\n",
       "    font-size: 13px;\n",
       "}\n",
       "\n",
       "div.output_area pre {\n",
       "    font-family: Inconsolata;\n",
       "    font-size: 11px;\n",
       "}\n",
       "\n",
       "div.text_cell_render {\n",
       "    font-family: Inconsolata;\n",
       "    font-size: 13px;\n",
       "}\n",
       "</style>\n"
      ],
      "text/plain": [
       "<IPython.core.display.HTML object>"
      ]
     },
     "metadata": {},
     "output_type": "display_data"
    }
   ],
   "source": [
    "%%html\n",
    "<style type='text/css'>\n",
    ".CodeMirror{\n",
    "    font-family: Inconsolata;\n",
    "    font-size: 13px;\n",
    "}\n",
    "\n",
    "div.output_area pre {\n",
    "    font-family: Inconsolata;\n",
    "    font-size: 11px;\n",
    "}\n",
    "\n",
    "div.text_cell_render {\n",
    "    font-family: Inconsolata;\n",
    "    font-size: 13px;\n",
    "}\n",
    "</style>"
   ]
  },
  {
   "cell_type": "code",
   "execution_count": 33,
   "id": "d53bd91d",
   "metadata": {},
   "outputs": [],
   "source": [
    "import pandas as pd\n",
    "import os, shutil\n",
    "import numpy as np\n",
    "import matplotlib\n",
    "import sys; sys.path.append('..')\n",
    "import pickle\n",
    "import requests\n",
    "import torch\n",
    "\n",
    "from queue import Queue\n",
    "from tqdm.notebook import tqdm, tqdm_notebook\n",
    "from collections import defaultdict\n",
    "\n",
    "path_ddi_dataset = r\"/data/data2/041/datasets/DDI\"\n",
    "path_iii_dataset = r\"/data/data2/041/datasets/mimic-iii-clinical-database-1.4\""
   ]
  },
  {
   "cell_type": "markdown",
   "id": "ed40e583",
   "metadata": {},
   "source": [
    "# `process_med`"
   ]
  },
  {
   "cell_type": "code",
   "execution_count": 34,
   "id": "37d452af",
   "metadata": {},
   "outputs": [
    {
     "name": "stderr",
     "output_type": "stream",
     "text": [
      "/data/data2/041/envs/LERS2/lib/python3.9/site-packages/IPython/core/interactiveshell.py:3269: DtypeWarning: Columns (11) have mixed types.Specify dtype option on import or set low_memory=False.\n",
      "  has_raised = await self.run_ast_nodes(code_ast.body, cell_name,\n"
     ]
    },
    {
     "name": "stdout",
     "output_type": "stream",
     "text": [
      "<class 'pandas.core.frame.DataFrame'>\n",
      "RangeIndex: 4156450 entries, 0 to 4156449\n",
      "Data columns (total 19 columns):\n",
      " #   Column             Dtype   \n",
      "---  ------             -----   \n",
      " 0   ROW_ID             int64   \n",
      " 1   SUBJECT_ID         int64   \n",
      " 2   HADM_ID            int64   \n",
      " 3   ICUSTAY_ID         float64 \n",
      " 4   STARTDATE          object  \n",
      " 5   ENDDATE            object  \n",
      " 6   DRUG_TYPE          object  \n",
      " 7   DRUG               object  \n",
      " 8   DRUG_NAME_POE      object  \n",
      " 9   DRUG_NAME_GENERIC  object  \n",
      " 10  FORMULARY_DRUG_CD  object  \n",
      " 11  GSN                object  \n",
      " 12  NDC                category\n",
      " 13  PROD_STRENGTH      object  \n",
      " 14  DOSE_VAL_RX        object  \n",
      " 15  DOSE_UNIT_RX       object  \n",
      " 16  FORM_VAL_DISP      object  \n",
      " 17  FORM_UNIT_DISP     object  \n",
      " 18  ROUTE              object  \n",
      "dtypes: category(1), float64(1), int64(3), object(14)\n",
      "memory usage: 578.9+ MB\n"
     ]
    }
   ],
   "source": [
    "med_pd = pd.read_csv(os.path.join(path_iii_dataset, \"PRESCRIPTIONS.csv.gz\"), dtype={'NDC':'category'})\n",
    "med_pd.info()"
   ]
  },
  {
   "cell_type": "code",
   "execution_count": 35,
   "id": "831a7d06",
   "metadata": {},
   "outputs": [
    {
     "name": "stdout",
     "output_type": "stream",
     "text": [
      "<class 'pandas.core.frame.DataFrame'>\n",
      "Int64Index: 3569864 entries, 0 to 4156449\n",
      "Data columns (total 5 columns):\n",
      " #   Column      Dtype   \n",
      "---  ------      -----   \n",
      " 0   SUBJECT_ID  int64   \n",
      " 1   HADM_ID     int64   \n",
      " 2   ICUSTAY_ID  float64 \n",
      " 3   STARTDATE   object  \n",
      " 4   NDC         category\n",
      "dtypes: category(1), float64(1), int64(2), object(1)\n",
      "memory usage: 143.1+ MB\n"
     ]
    }
   ],
   "source": [
    "med_pd.drop(columns=['ROW_ID','DRUG_TYPE','DRUG_NAME_POE','DRUG_NAME_GENERIC',\n",
    "                 'FORMULARY_DRUG_CD','GSN','PROD_STRENGTH','DOSE_VAL_RX',\n",
    "                 'DOSE_UNIT_RX','FORM_VAL_DISP','FORM_UNIT_DISP','FORM_UNIT_DISP',\n",
    "                  'ROUTE','ENDDATE','DRUG'], axis=1, inplace=True)\n",
    "med_pd.drop(index = med_pd[med_pd['NDC'] == '0'].index, axis=0, inplace=True)\n",
    "med_pd.info()"
   ]
  },
  {
   "cell_type": "code",
   "execution_count": 36,
   "id": "9e47f9c2",
   "metadata": {},
   "outputs": [
    {
     "name": "stdout",
     "output_type": "stream",
     "text": [
      "<class 'pandas.core.frame.DataFrame'>\n",
      "Int64Index: 3569840 entries, 30 to 4156449\n",
      "Data columns (total 5 columns):\n",
      " #   Column      Dtype   \n",
      "---  ------      -----   \n",
      " 0   SUBJECT_ID  int64   \n",
      " 1   HADM_ID     int64   \n",
      " 2   ICUSTAY_ID  float64 \n",
      " 3   STARTDATE   object  \n",
      " 4   NDC         category\n",
      "dtypes: category(1), float64(1), int64(2), object(1)\n",
      "memory usage: 143.1+ MB\n"
     ]
    }
   ],
   "source": [
    "med_pd.fillna(method='pad', inplace=True)\n",
    "med_pd.dropna(inplace=True)\n",
    "med_pd.info()"
   ]
  },
  {
   "cell_type": "code",
   "execution_count": 37,
   "id": "f5a55954",
   "metadata": {},
   "outputs": [
    {
     "name": "stdout",
     "output_type": "stream",
     "text": [
      "<class 'pandas.core.frame.DataFrame'>\n",
      "Int64Index: 2987420 entries, 30 to 4156449\n",
      "Data columns (total 5 columns):\n",
      " #   Column      Dtype   \n",
      "---  ------      -----   \n",
      " 0   SUBJECT_ID  int64   \n",
      " 1   HADM_ID     int64   \n",
      " 2   ICUSTAY_ID  float64 \n",
      " 3   STARTDATE   object  \n",
      " 4   NDC         category\n",
      "dtypes: category(1), float64(1), int64(2), object(1)\n",
      "memory usage: 119.8+ MB\n"
     ]
    }
   ],
   "source": [
    "med_pd.drop_duplicates(inplace=True)\n",
    "med_pd.info()"
   ]
  },
  {
   "cell_type": "code",
   "execution_count": 38,
   "id": "df768a9b",
   "metadata": {},
   "outputs": [
    {
     "name": "stdout",
     "output_type": "stream",
     "text": [
      "<class 'pandas.core.frame.DataFrame'>\n",
      "RangeIndex: 2987420 entries, 0 to 2987419\n",
      "Data columns (total 5 columns):\n",
      " #   Column      Dtype         \n",
      "---  ------      -----         \n",
      " 0   SUBJECT_ID  int64         \n",
      " 1   HADM_ID     int64         \n",
      " 2   ICUSTAY_ID  int64         \n",
      " 3   STARTDATE   datetime64[ns]\n",
      " 4   NDC         category      \n",
      "dtypes: category(1), datetime64[ns](1), int64(3)\n",
      "memory usage: 97.0 MB\n"
     ]
    }
   ],
   "source": [
    "med_pd['ICUSTAY_ID'] = med_pd['ICUSTAY_ID'].astype('int64')\n",
    "med_pd['STARTDATE'] = pd.to_datetime(med_pd['STARTDATE'], format='%Y-%m-%d %H:%M:%S')    \n",
    "med_pd.sort_values(by=['SUBJECT_ID', 'HADM_ID', 'ICUSTAY_ID', 'STARTDATE'], inplace=True)\n",
    "med_pd = med_pd.reset_index(drop=True)\n",
    "med_pd.info()"
   ]
  },
  {
   "cell_type": "code",
   "execution_count": 39,
   "id": "412ffd28",
   "metadata": {},
   "outputs": [
    {
     "name": "stdout",
     "output_type": "stream",
     "text": [
      "<class 'pandas.core.frame.DataFrame'>\n",
      "RangeIndex: 1137655 entries, 0 to 1137654\n",
      "Data columns (total 3 columns):\n",
      " #   Column      Non-Null Count    Dtype   \n",
      "---  ------      --------------    -----   \n",
      " 0   SUBJECT_ID  1137655 non-null  int64   \n",
      " 1   HADM_ID     1137655 non-null  int64   \n",
      " 2   NDC         1137655 non-null  category\n",
      "dtypes: category(1), int64(2)\n",
      "memory usage: 19.7 MB\n"
     ]
    }
   ],
   "source": [
    "def filter_first24hour_med(med_pd):\n",
    "    med_pd_new = med_pd.drop(columns=['NDC'])\n",
    "    med_pd_new = med_pd_new.groupby(by=['SUBJECT_ID','HADM_ID','ICUSTAY_ID']).head([1]).reset_index(drop=True)\n",
    "    med_pd_new = pd.merge(med_pd_new, med_pd, on=['SUBJECT_ID','HADM_ID','ICUSTAY_ID','STARTDATE'])\n",
    "    med_pd_new = med_pd_new.drop(columns=['STARTDATE'])\n",
    "    return med_pd_new\n",
    "\n",
    "med_pd = filter_first24hour_med(med_pd)\n",
    "# med_pd = med_pd.drop(columns=['STARTDATE'])\n",
    "med_pd = med_pd.drop(columns=['ICUSTAY_ID'])\n",
    "med_pd = med_pd.drop_duplicates()\n",
    "med_pd = med_pd.reset_index(drop=True)\n",
    "med_pd.info()"
   ]
  },
  {
   "cell_type": "code",
   "execution_count": 40,
   "id": "9dad93e2",
   "metadata": {},
   "outputs": [
    {
     "name": "stdout",
     "output_type": "stream",
     "text": [
      "<class 'pandas.core.frame.DataFrame'>\n",
      "Int64Index: 420093 entries, 0 to 420092\n",
      "Data columns (total 3 columns):\n",
      " #   Column      Non-Null Count   Dtype   \n",
      "---  ------      --------------   -----   \n",
      " 0   SUBJECT_ID  420093 non-null  int64   \n",
      " 1   HADM_ID     420093 non-null  int64   \n",
      " 2   NDC         420093 non-null  category\n",
      "dtypes: category(1), int64(2)\n",
      "memory usage: 10.6 MB\n"
     ]
    }
   ],
   "source": [
    "# visit > 2\n",
    "def process_visit_lg2(med_pd):\n",
    "    a = med_pd[['SUBJECT_ID', 'HADM_ID']].groupby(by='SUBJECT_ID')['HADM_ID'].unique().reset_index()\n",
    "    a['HADM_ID_Len'] = a['HADM_ID'].map(lambda x:len(x))\n",
    "    a = a[a['HADM_ID_Len'] > 1]\n",
    "    return a \n",
    "\n",
    "med_pd_lg2 = process_visit_lg2(med_pd).reset_index(drop=True)\n",
    "med_pd = med_pd.merge(med_pd_lg2[['SUBJECT_ID']], on='SUBJECT_ID', how='inner')\n",
    "med_pd.reset_index(drop=True)\n",
    "med_pd.info()"
   ]
  },
  {
   "cell_type": "code",
   "execution_count": 41,
   "id": "0a978834",
   "metadata": {},
   "outputs": [
    {
     "data": {
      "text/plain": [
       "(17368, 3329)"
      ]
     },
     "execution_count": 41,
     "metadata": {},
     "output_type": "execute_result"
    }
   ],
   "source": [
    "len(med_pd.HADM_ID.unique()), len(med_pd.NDC.unique())"
   ]
  },
  {
   "cell_type": "markdown",
   "id": "c0957207",
   "metadata": {},
   "source": [
    "# diagnoses"
   ]
  },
  {
   "cell_type": "code",
   "execution_count": 42,
   "id": "54149935",
   "metadata": {},
   "outputs": [
    {
     "name": "stdout",
     "output_type": "stream",
     "text": [
      "<class 'pandas.core.frame.DataFrame'>\n",
      "RangeIndex: 625434 entries, 0 to 625433\n",
      "Data columns (total 3 columns):\n",
      " #   Column      Non-Null Count   Dtype \n",
      "---  ------      --------------   ----- \n",
      " 0   SUBJECT_ID  625434 non-null  int64 \n",
      " 1   HADM_ID     625434 non-null  int64 \n",
      " 2   ICD9_CODE   625434 non-null  object\n",
      "dtypes: int64(2), object(1)\n",
      "memory usage: 14.3+ MB\n"
     ]
    }
   ],
   "source": [
    "diag_file = os.path.join(path_iii_dataset, \"DIAGNOSES_ICD.csv.gz\")\n",
    "\n",
    "def process_diag():\n",
    "    diag_pd = pd.read_csv(diag_file)\n",
    "    diag_pd.dropna(inplace=True)\n",
    "    diag_pd.drop(columns=['SEQ_NUM','ROW_ID'],inplace=True)\n",
    "    diag_pd.drop_duplicates(inplace=True)\n",
    "    diag_pd.sort_values(by=['SUBJECT_ID','HADM_ID'], inplace=True)\n",
    "    \n",
    "    return diag_pd.reset_index(drop=True)\n",
    "\n",
    "def filter_2000_most_diag(diag_pd):\n",
    "    diag_count = diag_pd.groupby(by=['ICD9_CODE']).size().reset_index().rename(columns={0:'count'}).sort_values(by=['count'],ascending=False).reset_index(drop=True)\n",
    "    diag_pd = diag_pd[diag_pd['ICD9_CODE'].isin(diag_count.loc[:1999, 'ICD9_CODE'])]\n",
    "    \n",
    "    return diag_pd.reset_index(drop=True)\n",
    "\n",
    "diag_pd = process_diag()\n",
    "diag_pd = filter_2000_most_diag(diag_pd)\n",
    "diag_pd.info()"
   ]
  },
  {
   "cell_type": "markdown",
   "id": "d19c5054",
   "metadata": {},
   "source": [
    "# procedures"
   ]
  },
  {
   "cell_type": "code",
   "execution_count": 43,
   "id": "70a9ad30",
   "metadata": {},
   "outputs": [
    {
     "name": "stdout",
     "output_type": "stream",
     "text": [
      "<class 'pandas.core.frame.DataFrame'>\n",
      "RangeIndex: 228679 entries, 0 to 228678\n",
      "Data columns (total 3 columns):\n",
      " #   Column      Non-Null Count   Dtype   \n",
      "---  ------      --------------   -----   \n",
      " 0   SUBJECT_ID  228679 non-null  int64   \n",
      " 1   HADM_ID     228679 non-null  int64   \n",
      " 2   ICD9_CODE   228679 non-null  category\n",
      "dtypes: category(1), int64(2)\n",
      "memory usage: 4.0 MB\n"
     ]
    }
   ],
   "source": [
    "procedure_file = os.path.join(path_iii_dataset, \"PROCEDURES_ICD.csv.gz\")\n",
    "\n",
    "def process_procedure():\n",
    "    pro_pd = pd.read_csv(procedure_file, dtype={'ICD9_CODE':'category'})\n",
    "    pro_pd.drop(columns=['ROW_ID'], inplace=True)\n",
    "    \n",
    "    pro_pd.drop_duplicates(inplace=True)\n",
    "    pro_pd.sort_values(by=['SUBJECT_ID', 'HADM_ID', 'SEQ_NUM'], inplace=True)\n",
    "    pro_pd.drop(columns=['SEQ_NUM'], inplace=True)\n",
    "    pro_pd.drop_duplicates(inplace=True)\n",
    "    pro_pd.reset_index(drop=True, inplace=True)\n",
    "    \n",
    "    return pro_pd\n",
    "\n",
    "pro_pd = process_procedure()\n",
    "pro_pd.info()"
   ]
  },
  {
   "cell_type": "markdown",
   "id": "cce8e27c",
   "metadata": {},
   "source": [
    "# `process_all`"
   ]
  },
  {
   "cell_type": "code",
   "execution_count": 44,
   "id": "2fac75ec",
   "metadata": {},
   "outputs": [],
   "source": [
    "med_pd_key = med_pd[['SUBJECT_ID', 'HADM_ID']].drop_duplicates()\n",
    "diag_pd_key = diag_pd[['SUBJECT_ID', 'HADM_ID']].drop_duplicates()\n",
    "pro_pd_key = pro_pd[['SUBJECT_ID', 'HADM_ID']].drop_duplicates()\n",
    "\n",
    "combined_key = med_pd_key.merge(diag_pd_key, on=['SUBJECT_ID', 'HADM_ID'], how='inner')\n",
    "combined_key = combined_key.merge(pro_pd_key, on=['SUBJECT_ID', 'HADM_ID'], how='inner')"
   ]
  },
  {
   "cell_type": "code",
   "execution_count": 45,
   "id": "cdb136bf",
   "metadata": {},
   "outputs": [
    {
     "name": "stdout",
     "output_type": "stream",
     "text": [
      "<class 'pandas.core.frame.DataFrame'>\n",
      "Int64Index: 374466 entries, 0 to 374465\n",
      "Data columns (total 3 columns):\n",
      " #   Column      Non-Null Count   Dtype   \n",
      "---  ------      --------------   -----   \n",
      " 0   SUBJECT_ID  374466 non-null  int64   \n",
      " 1   HADM_ID     374466 non-null  int64   \n",
      " 2   NDC         374466 non-null  category\n",
      "dtypes: category(1), int64(2)\n",
      "memory usage: 9.4 MB\n"
     ]
    }
   ],
   "source": [
    "diag_pd = diag_pd.merge(combined_key, on=['SUBJECT_ID', 'HADM_ID'], how='inner')\n",
    "med_pd = med_pd.merge(combined_key, on=['SUBJECT_ID', 'HADM_ID'], how='inner')\n",
    "pro_pd = pro_pd.merge(combined_key, on=['SUBJECT_ID', 'HADM_ID'], how='inner')\n",
    "med_pd.info()"
   ]
  },
  {
   "cell_type": "code",
   "execution_count": 46,
   "id": "29a79b82",
   "metadata": {},
   "outputs": [
    {
     "name": "stdout",
     "output_type": "stream",
     "text": [
      "<class 'pandas.core.frame.DataFrame'>\n",
      "Int64Index: 15041 entries, 0 to 15040\n",
      "Data columns (total 6 columns):\n",
      " #   Column      Non-Null Count  Dtype \n",
      "---  ------      --------------  ----- \n",
      " 0   SUBJECT_ID  15041 non-null  int64 \n",
      " 1   HADM_ID     15041 non-null  int64 \n",
      " 2   ICD9_CODE   15041 non-null  object\n",
      " 3   NDC         15041 non-null  object\n",
      " 4   PRO_CODE    15041 non-null  object\n",
      " 5   NDC_Len     15041 non-null  int64 \n",
      "dtypes: int64(3), object(3)\n",
      "memory usage: 822.6+ KB\n"
     ]
    }
   ],
   "source": [
    "# flatten and merge\n",
    "diag_pd = diag_pd.groupby(by=['SUBJECT_ID','HADM_ID'])['ICD9_CODE'].unique().reset_index()  \n",
    "med_pd = med_pd.groupby(by=['SUBJECT_ID', 'HADM_ID'])['NDC'].unique().reset_index()\n",
    "pro_pd = pro_pd.groupby(by=['SUBJECT_ID','HADM_ID'])['ICD9_CODE'].unique().reset_index().rename(columns={'ICD9_CODE':'PRO_CODE'})  \n",
    "\n",
    "med_pd['NDC'] = med_pd['NDC'].map(lambda x: list(x))\n",
    "pro_pd['PRO_CODE'] = pro_pd['PRO_CODE'].map(lambda x: list(x))\n",
    "\n",
    "data = diag_pd.merge(med_pd, on=['SUBJECT_ID', 'HADM_ID'], how='inner')\n",
    "data = data.merge(pro_pd, on=['SUBJECT_ID', 'HADM_ID'], how='inner')\n",
    "\n",
    "data['NDC_Len'] = data['NDC'].map(lambda x: len(x))\n",
    "data.info()"
   ]
  },
  {
   "cell_type": "code",
   "execution_count": 47,
   "id": "00c93d7c",
   "metadata": {},
   "outputs": [
    {
     "data": {
      "text/html": [
       "<div>\n",
       "<style scoped>\n",
       "    .dataframe tbody tr th:only-of-type {\n",
       "        vertical-align: middle;\n",
       "    }\n",
       "\n",
       "    .dataframe tbody tr th {\n",
       "        vertical-align: top;\n",
       "    }\n",
       "\n",
       "    .dataframe thead th {\n",
       "        text-align: right;\n",
       "    }\n",
       "</style>\n",
       "<table border=\"1\" class=\"dataframe\">\n",
       "  <thead>\n",
       "    <tr style=\"text-align: right;\">\n",
       "      <th></th>\n",
       "      <th>SUBJECT_ID</th>\n",
       "      <th>HADM_ID</th>\n",
       "      <th>ICD9_CODE</th>\n",
       "      <th>NDC</th>\n",
       "      <th>PRO_CODE</th>\n",
       "      <th>NDC_Len</th>\n",
       "    </tr>\n",
       "  </thead>\n",
       "  <tbody>\n",
       "    <tr>\n",
       "      <th>0</th>\n",
       "      <td>17</td>\n",
       "      <td>161087</td>\n",
       "      <td>[4239, 5119, 78551, 4589, 311, 7220, 71946, 2724]</td>\n",
       "      <td>[00713016550, 00904770418, 00904404073, 009045...</td>\n",
       "      <td>[3731, 8872, 3893]</td>\n",
       "      <td>36</td>\n",
       "    </tr>\n",
       "    <tr>\n",
       "      <th>1</th>\n",
       "      <td>17</td>\n",
       "      <td>194023</td>\n",
       "      <td>[7455, 45829, V1259, 2724]</td>\n",
       "      <td>[51079087101, 55390048101, 00338011704, 000741...</td>\n",
       "      <td>[3571, 3961, 8872]</td>\n",
       "      <td>32</td>\n",
       "    </tr>\n",
       "    <tr>\n",
       "      <th>2</th>\n",
       "      <td>21</td>\n",
       "      <td>109451</td>\n",
       "      <td>[41071, 78551, 5781, 5849, 40391, 4280, 4592, ...</td>\n",
       "      <td>[55390007310, 66553000401, 00045152010, 510790...</td>\n",
       "      <td>[0066, 3761, 3950, 3606, 0042, 0047, 3895, 399...</td>\n",
       "      <td>31</td>\n",
       "    </tr>\n",
       "    <tr>\n",
       "      <th>3</th>\n",
       "      <td>21</td>\n",
       "      <td>111970</td>\n",
       "      <td>[0388, 78552, 40391, 42731, 70709, 5119, 6823,...</td>\n",
       "      <td>[00338055318, 00074455211, 00310032520, 003380...</td>\n",
       "      <td>[3995, 8961, 0014]</td>\n",
       "      <td>26</td>\n",
       "    </tr>\n",
       "    <tr>\n",
       "      <th>4</th>\n",
       "      <td>23</td>\n",
       "      <td>124321</td>\n",
       "      <td>[2252, 3485, 78039, 4241, 4019, 2720, 2724, V4...</td>\n",
       "      <td>[00071036940, 00006494300, 00054817525, 004091...</td>\n",
       "      <td>[0151]</td>\n",
       "      <td>14</td>\n",
       "    </tr>\n",
       "  </tbody>\n",
       "</table>\n",
       "</div>"
      ],
      "text/plain": [
       "   SUBJECT_ID  HADM_ID                                          ICD9_CODE  \\\n",
       "0          17   161087  [4239, 5119, 78551, 4589, 311, 7220, 71946, 2724]   \n",
       "1          17   194023                         [7455, 45829, V1259, 2724]   \n",
       "2          21   109451  [41071, 78551, 5781, 5849, 40391, 4280, 4592, ...   \n",
       "3          21   111970  [0388, 78552, 40391, 42731, 70709, 5119, 6823,...   \n",
       "4          23   124321  [2252, 3485, 78039, 4241, 4019, 2720, 2724, V4...   \n",
       "\n",
       "                                                 NDC  \\\n",
       "0  [00713016550, 00904770418, 00904404073, 009045...   \n",
       "1  [51079087101, 55390048101, 00338011704, 000741...   \n",
       "2  [55390007310, 66553000401, 00045152010, 510790...   \n",
       "3  [00338055318, 00074455211, 00310032520, 003380...   \n",
       "4  [00071036940, 00006494300, 00054817525, 004091...   \n",
       "\n",
       "                                            PRO_CODE  NDC_Len  \n",
       "0                                 [3731, 8872, 3893]       36  \n",
       "1                                 [3571, 3961, 8872]       32  \n",
       "2  [0066, 3761, 3950, 3606, 0042, 0047, 3895, 399...       31  \n",
       "3                                 [3995, 8961, 0014]       26  \n",
       "4                                             [0151]       14  "
      ]
     },
     "execution_count": 47,
     "metadata": {},
     "output_type": "execute_result"
    }
   ],
   "source": [
    "data.head()"
   ]
  },
  {
   "cell_type": "code",
   "execution_count": 48,
   "id": "46bc3d77",
   "metadata": {},
   "outputs": [
    {
     "data": {
      "text/plain": [
       "15041"
      ]
     },
     "execution_count": 48,
     "metadata": {},
     "output_type": "execute_result"
    }
   ],
   "source": [
    "len(data.HADM_ID.unique())"
   ]
  }
 ],
 "metadata": {
  "kernelspec": {
   "display_name": "Python 3 (ipykernel)",
   "language": "python",
   "name": "python3"
  },
  "language_info": {
   "codemirror_mode": {
    "name": "ipython",
    "version": 3
   },
   "file_extension": ".py",
   "mimetype": "text/x-python",
   "name": "python",
   "nbconvert_exporter": "python",
   "pygments_lexer": "ipython3",
   "version": "3.9.0"
  }
 },
 "nbformat": 4,
 "nbformat_minor": 5
}
