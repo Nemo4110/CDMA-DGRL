{
 "cells": [
  {
   "cell_type": "code",
   "execution_count": 30,
   "metadata": {},
   "outputs": [],
   "source": [
    "import os\n",
    "import pandas as pd\n",
    "import numpy as np\n",
    "import matplotlib.pyplot as plt\n",
    "plt.rcParams[\"font.family\"] = \"monospace\"\n",
    "\n",
    "from sklearn.metrics import \\\n",
    "    auc, \\\n",
    "    roc_auc_score, \\\n",
    "    accuracy_score, \\\n",
    "    jaccard_score, \\\n",
    "    f1_score, \\\n",
    "    precision_score, \\\n",
    "    recall_score, \\\n",
    "    precision_recall_curve, \\\n",
    "    average_precision_score\n",
    "\n",
    "path2result = os.path.join(\"..\", \"results\")"
   ]
  },
  {
   "cell_type": "code",
   "execution_count": 2,
   "metadata": {},
   "outputs": [],
   "source": [
    "def get_result(_result):\n",
    "    print(f\"{roc_auc_score(          _result['label'].values, _result['score'].values, average='macro'):.4f} -> rocauc\")\n",
    "    print(f\"{average_precision_score(_result['label'].values, _result['score'].values, average='macro'):.4f} -> ap\")\n",
    "\n",
    "    print(f\"{accuracy_score( _result['label'].values, (_result['score'] > 0.5).values):.4f} -> acc\")\n",
    "    print(f\"{precision_score(_result['label'].values, (_result['score'] > 0.5).values):.4f} -> precision\")\n",
    "    print(f\"{recall_score(   _result['label'].values, (_result['score'] > 0.5).values, zero_division=0):.4f} -> recall\")\n",
    "    print(f\"{f1_score(       _result['label'].values, (_result['score'] > 0.5).values, zero_division=0):.4f} -> f1\")\n",
    "    "
   ]
  },
  {
   "cell_type": "markdown",
   "metadata": {},
   "source": [
    "# BACKBONE"
   ]
  },
  {
   "cell_type": "code",
   "execution_count": 6,
   "metadata": {},
   "outputs": [
    {
     "name": "stdout",
     "output_type": "stream",
     "text": [
      "0.9893 -> rocauc\n",
      "0.9831 -> ap\n",
      "0.9566 -> acc\n",
      "0.9503 -> precision\n",
      "0.9159 -> recall\n",
      "0.9328 -> f1\n"
     ]
    }
   ],
   "source": [
    "# drug:\n",
    "\n",
    "backbone_result = pd.read_csv(os.path.join(path2result, \"loss_0.1306_BackBoneV2_goal_drug.pt.csv.gz\"), index_col=0)\n",
    "get_result(backbone_result)"
   ]
  },
  {
   "cell_type": "code",
   "execution_count": 4,
   "metadata": {},
   "outputs": [
    {
     "name": "stdout",
     "output_type": "stream",
     "text": [
      "0.9898 -> rocauc\n",
      "0.9815 -> ap\n",
      "0.9502 -> acc\n",
      "0.9411 -> precision\n",
      "0.9050 -> recall\n",
      "0.9227 -> f1\n"
     ]
    }
   ],
   "source": [
    "# labitem\n",
    "\n",
    "backbone_result = pd.read_csv(os.path.join(path2result, \"loss_0.1141_BackBoneV2_goal_labitem.pt.csv.gz\"), index_col=0)\n",
    "get_result(backbone_result)"
   ]
  },
  {
   "cell_type": "markdown",
   "metadata": {},
   "source": [
    "# BASELINE"
   ]
  },
  {
   "cell_type": "markdown",
   "metadata": {},
   "source": [
    "## Sequential Recommender"
   ]
  },
  {
   "cell_type": "markdown",
   "metadata": {},
   "source": [
    "### DIN"
   ]
  },
  {
   "cell_type": "code",
   "execution_count": 45,
   "metadata": {},
   "outputs": [
    {
     "name": "stdout",
     "output_type": "stream",
     "text": [
      "0.9933 -> rocauc\n",
      "0.9884 -> ap\n",
      "0.9643 -> acc\n",
      "0.9525 -> precision\n",
      "0.9398 -> recall\n",
      "0.9461 -> f1\n"
     ]
    }
   ],
   "source": [
    "din_result = pd.read_csv(os.path.join(path2result, \"loss_0.0973_DIN_goal_drug.pt.csv.gz\"), index_col=0)\n",
    "get_result(din_result)"
   ]
  },
  {
   "cell_type": "code",
   "execution_count": 40,
   "metadata": {},
   "outputs": [
    {
     "name": "stdout",
     "output_type": "stream",
     "text": [
      "0.9904 -> rocauc\n",
      "0.9828 -> ap\n",
      "0.9519 -> acc\n",
      "0.9302 -> precision\n",
      "0.9251 -> recall\n",
      "0.9276 -> f1\n"
     ]
    }
   ],
   "source": [
    "# labitem\n",
    "din_result = pd.read_csv(os.path.join(path2result, \"loss_0.1132_DIN_goal_labitem.pt.csv.gz\"), index_col=0)\n",
    "get_result(din_result)"
   ]
  },
  {
   "cell_type": "markdown",
   "metadata": {},
   "source": [
    "### SASRec"
   ]
  },
  {
   "cell_type": "code",
   "execution_count": 46,
   "metadata": {},
   "outputs": [
    {
     "name": "stdout",
     "output_type": "stream",
     "text": [
      "0.9420 -> rocauc\n",
      "0.8879 -> ap\n",
      "0.8754 -> acc\n",
      "0.8162 -> precision\n",
      "0.8083 -> recall\n",
      "0.8122 -> f1\n"
     ]
    }
   ],
   "source": [
    "sasrec_result = pd.read_csv(os.path.join(path2result, \"loss_0.2918_SASRec_goal_drug.pt.csv.gz\"), index_col=0)\n",
    "get_result(sasrec_result)"
   ]
  },
  {
   "cell_type": "code",
   "execution_count": 44,
   "metadata": {},
   "outputs": [
    {
     "name": "stdout",
     "output_type": "stream",
     "text": [
      "0.9875 -> rocauc\n",
      "0.9760 -> ap\n",
      "0.9443 -> acc\n",
      "0.9198 -> precision\n",
      "0.9124 -> recall\n",
      "0.9160 -> f1\n"
     ]
    }
   ],
   "source": [
    "# labitem\n",
    "sasrec_result = pd.read_csv(os.path.join(path2result, \"loss_0.1297_SASRec_goal_labitem.pt.csv.gz\"), index_col=0)\n",
    "get_result(sasrec_result)"
   ]
  },
  {
   "cell_type": "markdown",
   "metadata": {},
   "source": [
    "## Context_aware Recommender\n",
    "\n",
    "### DeepFM"
   ]
  },
  {
   "cell_type": "code",
   "execution_count": 47,
   "metadata": {},
   "outputs": [
    {
     "name": "stdout",
     "output_type": "stream",
     "text": [
      "0.9595 -> rocauc\n",
      "0.9204 -> ap\n",
      "0.8983 -> acc\n",
      "0.8406 -> precision\n",
      "0.8575 -> recall\n",
      "0.8490 -> f1\n"
     ]
    }
   ],
   "source": [
    "deepfm_result = pd.read_csv(os.path.join(path2result, \"loss_0.2482_DeepFM_goal_drug.pt.csv.gz\"), index_col=0)\n",
    "get_result(deepfm_result)"
   ]
  },
  {
   "cell_type": "code",
   "execution_count": 34,
   "metadata": {},
   "outputs": [
    {
     "name": "stdout",
     "output_type": "stream",
     "text": [
      "0.9871 -> rocauc\n",
      "0.9761 -> ap\n",
      "0.9429 -> acc\n",
      "0.9082 -> precision\n",
      "0.9219 -> recall\n",
      "0.9150 -> f1\n"
     ]
    }
   ],
   "source": [
    "# labitem\n",
    "deepfm_result = pd.read_csv(os.path.join(path2result, \"loss_0.1348_DeepFM_goal_labitem.pt.csv.gz\"), index_col=0)\n",
    "get_result(deepfm_result)"
   ]
  },
  {
   "cell_type": "markdown",
   "metadata": {},
   "source": [
    "### DSSM"
   ]
  },
  {
   "cell_type": "code",
   "execution_count": 26,
   "metadata": {},
   "outputs": [
    {
     "name": "stdout",
     "output_type": "stream",
     "text": [
      "0.9258 -> rocauc\n",
      "0.8617 -> ap\n",
      "0.8812 -> acc\n",
      "0.8250 -> precision\n",
      "0.8168 -> recall\n",
      "0.8209 -> f1\n"
     ]
    }
   ],
   "source": [
    "dssm_result = pd.read_csv(os.path.join(path2result, \"loss_0.4306_DSSM_goal_drug.pt.csv.gz\"), index_col=0)\n",
    "get_result(dssm_result)"
   ]
  },
  {
   "cell_type": "code",
   "execution_count": 30,
   "metadata": {},
   "outputs": [
    {
     "name": "stdout",
     "output_type": "stream",
     "text": [
      "0.9709 -> rocauc\n",
      "0.9486 -> ap\n",
      "0.9383 -> acc\n",
      "0.9027 -> precision\n",
      "0.9132 -> recall\n",
      "0.9079 -> f1\n"
     ]
    }
   ],
   "source": [
    "# labitem\n",
    "dssm_result = pd.read_csv(os.path.join(path2result, \"loss_0.3705_DSSM_goal_labitem.pt.csv.gz\"), index_col=0)\n",
    "get_result(dssm_result)"
   ]
  },
  {
   "cell_type": "markdown",
   "metadata": {},
   "source": [
    "## General\n",
    "\n",
    "### NeuMF"
   ]
  },
  {
   "cell_type": "code",
   "execution_count": 48,
   "metadata": {},
   "outputs": [
    {
     "name": "stdout",
     "output_type": "stream",
     "text": [
      "0.7108 -> rocauc\n",
      "0.5824 -> ap\n",
      "0.7159 -> acc\n",
      "0.6626 -> precision\n",
      "0.3011 -> recall\n",
      "0.4140 -> f1\n"
     ]
    }
   ],
   "source": [
    "neumf_result = pd.read_csv(os.path.join(path2result, \"loss_0.5632_NeuMF_goal_drug.pt.csv.gz\"), index_col=0)\n",
    "get_result(neumf_result)"
   ]
  },
  {
   "cell_type": "code",
   "execution_count": 32,
   "metadata": {},
   "outputs": [
    {
     "name": "stdout",
     "output_type": "stream",
     "text": [
      "0.7773 -> rocauc\n",
      "0.5650 -> ap\n",
      "0.6938 -> acc\n",
      "0.5453 -> precision\n",
      "0.4897 -> recall\n",
      "0.5160 -> f1\n"
     ]
    }
   ],
   "source": [
    "# labitem\n",
    "neumf_result = pd.read_csv(os.path.join(path2result, \"loss_0.4795_NeuMF_goal_labitem.pt.csv.gz\"), index_col=0)\n",
    "get_result(neumf_result)"
   ]
  },
  {
   "cell_type": "markdown",
   "metadata": {},
   "source": [
    "### BPR"
   ]
  },
  {
   "cell_type": "code",
   "execution_count": 28,
   "metadata": {},
   "outputs": [
    {
     "name": "stdout",
     "output_type": "stream",
     "text": [
      "0.7035 -> rocauc\n",
      "0.5622 -> ap\n",
      "0.6744 -> acc\n",
      "0.5109 -> precision\n",
      "0.5432 -> recall\n",
      "0.5266 -> f1\n"
     ]
    }
   ],
   "source": [
    "# drug\n",
    "bpr_result = pd.read_csv(os.path.join(path2result, \"loss_0.5566_BPR_goal_drug.pt.csv.gz\"), index_col=0)\n",
    "get_result(bpr_result)"
   ]
  },
  {
   "cell_type": "code",
   "execution_count": 29,
   "metadata": {},
   "outputs": [
    {
     "name": "stdout",
     "output_type": "stream",
     "text": [
      "0.7715 -> rocauc\n",
      "0.5567 -> ap\n",
      "0.6769 -> acc\n",
      "0.5082 -> precision\n",
      "0.9446 -> recall\n",
      "0.6609 -> f1\n"
     ]
    }
   ],
   "source": [
    "# labitem\n",
    "bpr_result = pd.read_csv(os.path.join(path2result, \"loss_0.3794_BPR_goal_labitem.pt.csv.gz\"), index_col=0)\n",
    "get_result(bpr_result)"
   ]
  },
  {
   "cell_type": "markdown",
   "metadata": {},
   "source": [
    "# Parameter settings experiment\n"
   ]
  },
  {
   "cell_type": "code",
   "execution_count": 66,
   "metadata": {},
   "outputs": [
    {
     "name": "stderr",
     "output_type": "stream",
     "text": [
      "The PostScript backend does not support transparency; partially transparent artists will be rendered opaque.\n"
     ]
    },
    {
     "data": {
      "image/png": "[encoded data removed]",
      "text/plain": [
       "<Figure size 500x400 with 1 Axes>"
      ]
     },
     "metadata": {},
     "output_type": "display_data"
    }
   ],
   "source": [
    "metrics = (\"AUC\", \"AP\", \"ACC\", \"Precision\", \"Recall\", \"F1\")\n",
    "penguin_means = {\n",
    "    'GINEConv': (0.9894, 0.9832, 0.9585, 0.9712, 0.9006, 0.9346),\n",
    "    'GENConv':  (0.9888, 0.9825, 0.9576, 0.9593, 0.9097, 0.9338),\n",
    "    'GATConv':  (0.9284, 0.9291, 0.9446, 0.9982, 0.8330, 0.9081),\n",
    "}\n",
    "colors = ['salmon', 'wheat', 'thistle']\n",
    "hatchs = ['//', '', '']\n",
    "\n",
    "x = np.arange(len(metrics))  # the label locations\n",
    "width = 0.13  # the width of the bars\n",
    "multiplier = 0\n",
    "\n",
    "fig, ax = plt.subplots(layout='constrained', figsize=(5, 4))\n",
    "\n",
    "i = 0\n",
    "for attribute, measurement in penguin_means.items():\n",
    "    offset = width * multiplier\n",
    "    rects = ax.bar(x + offset, measurement, width, label=attribute, color=colors[i], hatch=hatchs[i])\n",
    "    # ax.bar_label(rects, padding=3)\n",
    "    multiplier += 1\n",
    "    i += 1\n",
    "\n",
    "# Add some text for labels, title and custom x-axis tick labels, etc.\n",
    "ax.set_xlabel('Metrics')\n",
    "ax.set_title('Performance of different GNNs')\n",
    "ax.set_xticks(x + width, metrics)\n",
    "ax.legend()\n",
    "ax.set_ylim(0.80, 1.)\n",
    "ax.grid(True, linestyle=':', linewidth=.41)\n",
    "\n",
    "plt.savefig('different_GNNs.eps', format='eps')"
   ]
  },
  {
   "cell_type": "code",
   "execution_count": 67,
   "metadata": {},
   "outputs": [
    {
     "name": "stderr",
     "output_type": "stream",
     "text": [
      "The PostScript backend does not support transparency; partially transparent artists will be rendered opaque.\n"
     ]
    },
    {
     "data": {
      "image/png": "[encoded data removed]",
      "text/plain": [
       "<Figure size 400x300 with 1 Axes>"
      ]
     },
     "metadata": {},
     "output_type": "display_data"
    }
   ],
   "source": [
    "# metrics = (\"AUC\", \"AP\", \"ACC\", \"Precision\", \"Recall\", \"F1\")\n",
    "\n",
    "aucs = [0.9894, 0.9894, 0.9894]\n",
    "aps  = [0.9832, 0.9832, 0.9832]\n",
    "accs = [0.9559, 0.9572, 0.9585]\n",
    "precisions = [0.9402, 0.9550, 0.9712]\n",
    "recalls    = [0.9248, 0.9130, 0.9006]\n",
    "f1s        = [0.9324, 0.9335, 0.9346]\n",
    "\n",
    "\n",
    "layers = 3\n",
    "x = np.arange(layers) + 1\n",
    "\n",
    "fig, ax = plt.subplots(layout='constrained', figsize=(4, 3))\n",
    "\n",
    "ax.plot(x, aucs, label=\"AUC\", linewidth=1)\n",
    "ax.scatter(x, aucs)\n",
    "\n",
    "ax.plot(x, aps, label=\"AP\", linewidth=1)\n",
    "ax.scatter(x, aps)\n",
    "\n",
    "ax.plot(x, accs, label=\"ACC\", linewidth=1)\n",
    "ax.scatter(x, accs)\n",
    "\n",
    "ax.plot(x, precisions, label=\"precision\", linewidth=1)\n",
    "ax.scatter(x, precisions)\n",
    "\n",
    "ax.plot(x, recalls, label=\"recall\", linewidth=1)\n",
    "ax.scatter(x, recalls)\n",
    "\n",
    "ax.plot(x, f1s, label=\"f1\", linewidth=1)\n",
    "ax.scatter(x, f1s)\n",
    "\n",
    "ax.set_xticks(x, [1, 2, 3])\n",
    "ax.legend()\n",
    "ax.set_ylim(0.9, 1.)\n",
    "ax.set_xlim(0.5, 3.5)\n",
    "ax.grid(True, linestyle=':', linewidth=.41)\n",
    "ax.set_xlabel('layers')\n",
    "ax.set_title('Performance of different GNNs layers')\n",
    "\n",
    "plt.savefig('different_GNNs_layers.eps', format='eps')"
   ]
  }
 ],
 "metadata": {
  "kernelspec": {
   "display_name": "LERS",
   "language": "python",
   "name": "python3"
  },
  "language_info": {
   "codemirror_mode": {
    "name": "ipython",
    "version": 3
   },
   "file_extension": ".py",
   "mimetype": "text/x-python",
   "name": "python",
   "nbconvert_exporter": "python",
   "pygments_lexer": "ipython3",
   "version": "3.10.12"
  }
 },
 "nbformat": 4,
 "nbformat_minor": 2
}
