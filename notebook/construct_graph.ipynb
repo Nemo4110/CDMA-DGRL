{
 "cells": [
  {
   "cell_type": "code",
   "execution_count": 1,
   "metadata": {},
   "outputs": [
    {
     "data": {
      "text/html": [
       "<style type='text/css'>\n",
       ".CodeMirror{\n",
       "    font-family: Inconsolata;\n",
       "    font-size: 13px;\n",
       "}\n",
       "\n",
       "div.output_area pre {\n",
       "    font-family: Inconsolata;\n",
       "    font-size: 11px;\n",
       "}\n",
       "\n",
       "div.text_cell_render {\n",
       "    font-family: Inconsolata;\n",
       "    font-size: 13px;\n",
       "}\n",
       "</style>\n"
      ],
      "text/plain": [
       "<IPython.core.display.HTML object>"
      ]
     },
     "metadata": {},
     "output_type": "display_data"
    }
   ],
   "source": [
    "%%html\n",
    "<style type='text/css'>\n",
    ".CodeMirror{\n",
    "    font-family: Inconsolata;\n",
    "    font-size: 13px;\n",
    "}\n",
    "\n",
    "div.output_area pre {\n",
    "    font-family: Inconsolata;\n",
    "    font-size: 11px;\n",
    "}\n",
    "\n",
    "div.text_cell_render {\n",
    "    font-family: Inconsolata;\n",
    "    font-size: 13px;\n",
    "}\n",
    "</style>"
   ]
  },
  {
   "cell_type": "code",
   "execution_count": 2,
   "metadata": {},
   "outputs": [
    {
     "name": "stdout",
     "output_type": "stream",
     "text": [
      "2.3.0\n"
     ]
    }
   ],
   "source": [
    "import pandas as pd\n",
    "import os, shutil\n",
    "import torch\n",
    "import numpy as np\n",
    "\n",
    "import matplotlib\n",
    "\n",
    "import torch_geometric; print(torch_geometric.__version__)\n",
    "import torch_geometric.transforms as T\n",
    "\n",
    "from tqdm.notebook import tqdm, tqdm_notebook\n",
    "from torch_geometric.data import HeteroData\n",
    "from torch_geometric.loader import DataLoader\n",
    "\n",
    "import sys; sys.path.append('..')\n",
    "from dataset.hgs import MyOwnDataset"
   ]
  },
  {
   "cell_type": "markdown",
   "metadata": {},
   "source": [
    "# Design\n",
    "\n",
    "Heterogeneous Graph:\n",
    "\n",
    "- Nodes: \n",
    "  - hadm_ids(can merge with patients by subject_id)\n",
    "  - labitems\n",
    "- Node Features:\n",
    "  - hadm_ids: \n",
    "    - ADMISSION_TYPE\n",
    "    - ADMISSION_LOCATION\n",
    "    - DISCHARGE_LOCATION\n",
    "    - INSURANCE\n",
    "    - LANGUAGE\n",
    "    - RELIGION\n",
    "    - MARITAL_STATUS\n",
    "    - ETHNICITY\n",
    "    - TOP-10 (or TOP-?) diagnoses_icd record, 10 demensions vecter with ICD-9 code (should be rearranged by frequency?) respective\n",
    "  - labitems:\n",
    "    - FLUID\n",
    "    - CATEGORY\n",
    "- Edges:\n",
    "  - hadm_id *did* labitem\n",
    "- Edge_features:\n",
    "  - z-score (for value type labitems)\n",
    "  - category (for non-value type labitems)\n",
    "  - ~~FLAG~~ (Don't use this, because many entry were found with obvious abnormal value but without abnormal flag!)\n",
    "- Labels: \n",
    "  - edge-level prediction task\n",
    "  - predict weather edges exist at $T_n$ base on graph from $T_{n-1}$ to $T_0$\n",
    "- Timesteps:\n",
    "  - half a day as interval? or full a day? **Finally, we chose full a day (24 hours)**\n",
    "  - automatically omit vacant day (without labevent entry), skip to next non-vacant day as next timestep\n",
    "- Temporal graph shape: \n",
    "  - Dynamic\n",
    "  - edge change over time\n",
    "\n",
    "Note: \n",
    "In practice, a patient won't have *diagnoses_icd* when he/she first enters a hospital, and the *diagnoses_icd* records don't have timestamp. \n",
    "So, the connection between *hadm_ids* and *diagnoses_icd* is a final result after all *lebitems* being executed. \n",
    "Hence, here raises 3 choices, \n",
    "- letting *diagnoses_icd* acts as **node** which exists connections between *hadm_ids*\n",
    "- letting *diagnoses_icd* acts as **node_feature** of *hadm_ids* (Being choosen)\n",
    "- don't use it"
   ]
  },
  {
   "cell_type": "code",
   "execution_count": 3,
   "metadata": {},
   "outputs": [
    {
     "data": {
      "text/html": [
       "<div>\n",
       "<style scoped>\n",
       "    .dataframe tbody tr th:only-of-type {\n",
       "        vertical-align: middle;\n",
       "    }\n",
       "\n",
       "    .dataframe tbody tr th {\n",
       "        vertical-align: top;\n",
       "    }\n",
       "\n",
       "    .dataframe thead th {\n",
       "        text-align: right;\n",
       "    }\n",
       "</style>\n",
       "<table border=\"1\" class=\"dataframe\">\n",
       "  <thead>\n",
       "    <tr style=\"text-align: right;\">\n",
       "      <th></th>\n",
       "      <th>Unnamed: 0</th>\n",
       "      <th>Unnamed: 0.1</th>\n",
       "      <th>ROW_ID</th>\n",
       "      <th>SUBJECT_ID</th>\n",
       "      <th>HADM_ID</th>\n",
       "      <th>ITEMID</th>\n",
       "      <th>CHARTTIME</th>\n",
       "      <th>VALUE</th>\n",
       "      <th>VALUENUM</th>\n",
       "      <th>VALUEUOM</th>\n",
       "      <th>FLAG</th>\n",
       "      <th>CATAGORY</th>\n",
       "      <th>VALUENUM_Z-SCORED</th>\n",
       "      <th>TIMESTEP</th>\n",
       "    </tr>\n",
       "  </thead>\n",
       "  <tbody>\n",
       "    <tr>\n",
       "      <th>0</th>\n",
       "      <td>0</td>\n",
       "      <td>0</td>\n",
       "      <td>22441088</td>\n",
       "      <td>58526</td>\n",
       "      <td>100001.0</td>\n",
       "      <td>50813</td>\n",
       "      <td>2117-09-11 08:32:00</td>\n",
       "      <td>1.9</td>\n",
       "      <td>1.9</td>\n",
       "      <td>mmol/L</td>\n",
       "      <td>NaN</td>\n",
       "      <td>0.0</td>\n",
       "      <td>1.514175</td>\n",
       "      <td>0.0</td>\n",
       "    </tr>\n",
       "    <tr>\n",
       "      <th>1</th>\n",
       "      <td>1</td>\n",
       "      <td>1</td>\n",
       "      <td>22441061</td>\n",
       "      <td>58526</td>\n",
       "      <td>100001.0</td>\n",
       "      <td>50861</td>\n",
       "      <td>2117-09-11 08:22:00</td>\n",
       "      <td>10</td>\n",
       "      <td>10.0</td>\n",
       "      <td>IU/L</td>\n",
       "      <td>NaN</td>\n",
       "      <td>0.0</td>\n",
       "      <td>-1.200442</td>\n",
       "      <td>0.0</td>\n",
       "    </tr>\n",
       "    <tr>\n",
       "      <th>2</th>\n",
       "      <td>2</td>\n",
       "      <td>2</td>\n",
       "      <td>22441062</td>\n",
       "      <td>58526</td>\n",
       "      <td>100001.0</td>\n",
       "      <td>50863</td>\n",
       "      <td>2117-09-11 08:22:00</td>\n",
       "      <td>105</td>\n",
       "      <td>105.0</td>\n",
       "      <td>IU/L</td>\n",
       "      <td>NaN</td>\n",
       "      <td>0.0</td>\n",
       "      <td>1.276112</td>\n",
       "      <td>0.0</td>\n",
       "    </tr>\n",
       "    <tr>\n",
       "      <th>3</th>\n",
       "      <td>3</td>\n",
       "      <td>3</td>\n",
       "      <td>22441320</td>\n",
       "      <td>58526</td>\n",
       "      <td>100001.0</td>\n",
       "      <td>50868</td>\n",
       "      <td>2117-09-17 05:45:00</td>\n",
       "      <td>14</td>\n",
       "      <td>14.0</td>\n",
       "      <td>mEq/L</td>\n",
       "      <td>NaN</td>\n",
       "      <td>0.0</td>\n",
       "      <td>0.225221</td>\n",
       "      <td>6.0</td>\n",
       "    </tr>\n",
       "    <tr>\n",
       "      <th>4</th>\n",
       "      <td>8</td>\n",
       "      <td>8</td>\n",
       "      <td>22441141</td>\n",
       "      <td>58526</td>\n",
       "      <td>100001.0</td>\n",
       "      <td>50868</td>\n",
       "      <td>2117-09-11 23:17:00</td>\n",
       "      <td>16</td>\n",
       "      <td>16.0</td>\n",
       "      <td>mEq/L</td>\n",
       "      <td>NaN</td>\n",
       "      <td>0.0</td>\n",
       "      <td>0.931794</td>\n",
       "      <td>0.0</td>\n",
       "    </tr>\n",
       "  </tbody>\n",
       "</table>\n",
       "</div>"
      ],
      "text/plain": [
       "   Unnamed: 0  Unnamed: 0.1    ROW_ID  SUBJECT_ID   HADM_ID  ITEMID  \\\n",
       "0           0             0  22441088       58526  100001.0   50813   \n",
       "1           1             1  22441061       58526  100001.0   50861   \n",
       "2           2             2  22441062       58526  100001.0   50863   \n",
       "3           3             3  22441320       58526  100001.0   50868   \n",
       "4           8             8  22441141       58526  100001.0   50868   \n",
       "\n",
       "             CHARTTIME VALUE  VALUENUM VALUEUOM FLAG  CATAGORY  \\\n",
       "0  2117-09-11 08:32:00   1.9       1.9   mmol/L  NaN       0.0   \n",
       "1  2117-09-11 08:22:00    10      10.0     IU/L  NaN       0.0   \n",
       "2  2117-09-11 08:22:00   105     105.0     IU/L  NaN       0.0   \n",
       "3  2117-09-17 05:45:00    14      14.0    mEq/L  NaN       0.0   \n",
       "4  2117-09-11 23:17:00    16      16.0    mEq/L  NaN       0.0   \n",
       "\n",
       "   VALUENUM_Z-SCORED  TIMESTEP  \n",
       "0           1.514175       0.0  \n",
       "1          -1.200442       0.0  \n",
       "2           1.276112       0.0  \n",
       "3           0.225221       6.0  \n",
       "4           0.931794       0.0  "
      ]
     },
     "execution_count": 3,
     "metadata": {},
     "output_type": "execute_result"
    }
   ],
   "source": [
    "path_dataset = r\"/data/data2/041/datasets/mimic-iii-clinical-database-1.4\"\n",
    "list_csvgz = [f for f in os.listdir(path_dataset) if f[-6:]==\"csv.gz\"]\n",
    "# [f for f in list_csvgz if f[-10:-7]=='NEW']\n",
    "\n",
    "df_admissions = pd.read_csv(os.path.join(path_dataset, \"ADMISSIONS_NEW.csv.gz\"))\n",
    "df_labitems = pd.read_csv(os.path.join(path_dataset, \"D_LABITEMS_NEW.csv.gz\"))\n",
    "# df_labevents = pd.read_csv(os.path.join(path_dataset, \"LABEVENTS_NEW.csv.gz\"))\n",
    "df_labevents = pd.read_csv(os.path.join(path_dataset, \"LABEVENTS_NEW_remove_duplicate_edges.csv.gz\"))\n",
    "\n",
    "df_labevents.head()"
   ]
  },
  {
   "cell_type": "code",
   "execution_count": 4,
   "metadata": {},
   "outputs": [
    {
     "name": "stdout",
     "output_type": "stream",
     "text": [
      "False False\n"
     ]
    },
    {
     "data": {
      "text/plain": [
       "ADMISSION_TYPE        False\n",
       "ADMISSION_LOCATION    False\n",
       "DISCHARGE_LOCATION    False\n",
       "INSURANCE             False\n",
       "LANGUAGE              False\n",
       "RELIGION              False\n",
       "MARITAL_STATUS        False\n",
       "ETHNICITY             False\n",
       "dtype: bool"
      ]
     },
     "execution_count": 4,
     "metadata": {},
     "output_type": "execute_result"
    }
   ],
   "source": [
    "print(df_labitems[\"FLUID\"].isnull().any(), df_labitems[\"CATEGORY\"].isnull().any())\n",
    "list_selected_admission_columns = ['ADMISSION_TYPE', 'ADMISSION_LOCATION', 'DISCHARGE_LOCATION', 'INSURANCE', 'LANGUAGE', 'RELIGION', 'MARITAL_STATUS', 'ETHNICITY']\n",
    "df_admissions[list_selected_admission_columns].isnull().any()"
   ]
  },
  {
   "cell_type": "code",
   "execution_count": 5,
   "metadata": {},
   "outputs": [
    {
     "name": "stdout",
     "output_type": "stream",
     "text": [
      "False\n",
      "False\n",
      "False\n"
     ]
    }
   ],
   "source": [
    "print(df_labevents[\"CATAGORY\"].isnull().any())\n",
    "print(df_labevents[\"VALUENUM_Z-SCORED\"].isnull().any())\n",
    "print(df_labevents[\"TIMESTEP\"].isnull().any())"
   ]
  },
  {
   "cell_type": "code",
   "execution_count": 6,
   "metadata": {},
   "outputs": [
    {
     "data": {
      "text/html": [
       "<div>\n",
       "<style scoped>\n",
       "    .dataframe tbody tr th:only-of-type {\n",
       "        vertical-align: middle;\n",
       "    }\n",
       "\n",
       "    .dataframe tbody tr th {\n",
       "        vertical-align: top;\n",
       "    }\n",
       "\n",
       "    .dataframe thead th {\n",
       "        text-align: right;\n",
       "    }\n",
       "</style>\n",
       "<table border=\"1\" class=\"dataframe\">\n",
       "  <thead>\n",
       "    <tr style=\"text-align: right;\">\n",
       "      <th></th>\n",
       "      <th>Unnamed: 0</th>\n",
       "      <th>Unnamed: 0.1</th>\n",
       "      <th>ROW_ID</th>\n",
       "      <th>SUBJECT_ID</th>\n",
       "      <th>HADM_ID</th>\n",
       "      <th>ITEMID</th>\n",
       "      <th>CHARTTIME</th>\n",
       "      <th>VALUE</th>\n",
       "      <th>VALUENUM</th>\n",
       "      <th>VALUEUOM</th>\n",
       "      <th>FLAG</th>\n",
       "      <th>CATAGORY</th>\n",
       "      <th>VALUENUM_Z-SCORED</th>\n",
       "      <th>TIMESTEP</th>\n",
       "    </tr>\n",
       "  </thead>\n",
       "  <tbody>\n",
       "  </tbody>\n",
       "</table>\n",
       "</div>"
      ],
      "text/plain": [
       "Empty DataFrame\n",
       "Columns: [Unnamed: 0, Unnamed: 0.1, ROW_ID, SUBJECT_ID, HADM_ID, ITEMID, CHARTTIME, VALUE, VALUENUM, VALUEUOM, FLAG, CATAGORY, VALUENUM_Z-SCORED, TIMESTEP]\n",
       "Index: []"
      ]
     },
     "execution_count": 6,
     "metadata": {},
     "output_type": "execute_result"
    }
   ],
   "source": [
    "df_labevents[df_labevents[\"VALUENUM_Z-SCORED\"].isnull()]"
   ]
  },
  {
   "cell_type": "code",
   "execution_count": 7,
   "metadata": {},
   "outputs": [
    {
     "name": "stdout",
     "output_type": "stream",
     "text": [
      "min: 0.0, max: 1351.0\n",
      "min: -635000000.0, max: 7730000000.0\n"
     ]
    }
   ],
   "source": [
    "print(f\"min: {df_labevents['CATAGORY'].min()}, max: {df_labevents['CATAGORY'].max()}\")\n",
    "print(f\"min: {df_labevents['VALUENUM_Z-SCORED'].min()}, max: {df_labevents['VALUENUM_Z-SCORED'].max()}\")"
   ]
  },
  {
   "cell_type": "code",
   "execution_count": 8,
   "metadata": {},
   "outputs": [
    {
     "data": {
      "text/html": [
       "<div>\n",
       "<style scoped>\n",
       "    .dataframe tbody tr th:only-of-type {\n",
       "        vertical-align: middle;\n",
       "    }\n",
       "\n",
       "    .dataframe tbody tr th {\n",
       "        vertical-align: top;\n",
       "    }\n",
       "\n",
       "    .dataframe thead th {\n",
       "        text-align: right;\n",
       "    }\n",
       "</style>\n",
       "<table border=\"1\" class=\"dataframe\">\n",
       "  <thead>\n",
       "    <tr style=\"text-align: right;\">\n",
       "      <th></th>\n",
       "      <th>CATAGORY</th>\n",
       "      <th>VALUENUM_Z-SCORED</th>\n",
       "      <th>TIMESTEP</th>\n",
       "    </tr>\n",
       "  </thead>\n",
       "  <tbody>\n",
       "    <tr>\n",
       "      <th>count</th>\n",
       "      <td>1.530910e+07</td>\n",
       "      <td>1.530910e+07</td>\n",
       "      <td>1.530910e+07</td>\n",
       "    </tr>\n",
       "    <tr>\n",
       "      <th>mean</th>\n",
       "      <td>2.618440e-01</td>\n",
       "      <td>2.701082e+05</td>\n",
       "      <td>8.990683e+00</td>\n",
       "    </tr>\n",
       "    <tr>\n",
       "      <th>std</th>\n",
       "      <td>8.049515e+00</td>\n",
       "      <td>2.487057e+07</td>\n",
       "      <td>1.343537e+01</td>\n",
       "    </tr>\n",
       "    <tr>\n",
       "      <th>min</th>\n",
       "      <td>0.000000e+00</td>\n",
       "      <td>-6.350000e+08</td>\n",
       "      <td>0.000000e+00</td>\n",
       "    </tr>\n",
       "    <tr>\n",
       "      <th>25%</th>\n",
       "      <td>0.000000e+00</td>\n",
       "      <td>-9.556186e-01</td>\n",
       "      <td>1.000000e+00</td>\n",
       "    </tr>\n",
       "    <tr>\n",
       "      <th>50%</th>\n",
       "      <td>0.000000e+00</td>\n",
       "      <td>0.000000e+00</td>\n",
       "      <td>5.000000e+00</td>\n",
       "    </tr>\n",
       "    <tr>\n",
       "      <th>75%</th>\n",
       "      <td>0.000000e+00</td>\n",
       "      <td>1.285080e+00</td>\n",
       "      <td>1.100000e+01</td>\n",
       "    </tr>\n",
       "    <tr>\n",
       "      <th>max</th>\n",
       "      <td>1.351000e+03</td>\n",
       "      <td>7.730000e+09</td>\n",
       "      <td>2.910000e+02</td>\n",
       "    </tr>\n",
       "  </tbody>\n",
       "</table>\n",
       "</div>"
      ],
      "text/plain": [
       "           CATAGORY  VALUENUM_Z-SCORED      TIMESTEP\n",
       "count  1.530910e+07       1.530910e+07  1.530910e+07\n",
       "mean   2.618440e-01       2.701082e+05  8.990683e+00\n",
       "std    8.049515e+00       2.487057e+07  1.343537e+01\n",
       "min    0.000000e+00      -6.350000e+08  0.000000e+00\n",
       "25%    0.000000e+00      -9.556186e-01  1.000000e+00\n",
       "50%    0.000000e+00       0.000000e+00  5.000000e+00\n",
       "75%    0.000000e+00       1.285080e+00  1.100000e+01\n",
       "max    1.351000e+03       7.730000e+09  2.910000e+02"
      ]
     },
     "execution_count": 8,
     "metadata": {},
     "output_type": "execute_result"
    }
   ],
   "source": [
    "df_labevents[['CATAGORY', 'VALUENUM_Z-SCORED', 'TIMESTEP']].describe()"
   ]
  },
  {
   "cell_type": "code",
   "execution_count": 9,
   "metadata": {},
   "outputs": [
    {
     "data": {
      "text/html": [
       "<div>\n",
       "<style scoped>\n",
       "    .dataframe tbody tr th:only-of-type {\n",
       "        vertical-align: middle;\n",
       "    }\n",
       "\n",
       "    .dataframe tbody tr th {\n",
       "        vertical-align: top;\n",
       "    }\n",
       "\n",
       "    .dataframe thead th {\n",
       "        text-align: right;\n",
       "    }\n",
       "</style>\n",
       "<table border=\"1\" class=\"dataframe\">\n",
       "  <thead>\n",
       "    <tr style=\"text-align: right;\">\n",
       "      <th></th>\n",
       "      <th>ADMISSION_TYPE</th>\n",
       "      <th>ADMISSION_LOCATION</th>\n",
       "      <th>DISCHARGE_LOCATION</th>\n",
       "      <th>INSURANCE</th>\n",
       "      <th>LANGUAGE</th>\n",
       "      <th>RELIGION</th>\n",
       "      <th>MARITAL_STATUS</th>\n",
       "      <th>ETHNICITY</th>\n",
       "    </tr>\n",
       "  </thead>\n",
       "  <tbody>\n",
       "    <tr>\n",
       "      <th>count</th>\n",
       "      <td>58976.000000</td>\n",
       "      <td>58976.000000</td>\n",
       "      <td>58976.000000</td>\n",
       "      <td>58976.000000</td>\n",
       "      <td>58976.000000</td>\n",
       "      <td>58976.000000</td>\n",
       "      <td>58976.000000</td>\n",
       "      <td>58976.000000</td>\n",
       "    </tr>\n",
       "    <tr>\n",
       "      <th>mean</th>\n",
       "      <td>1.462612</td>\n",
       "      <td>2.149145</td>\n",
       "      <td>2.907030</td>\n",
       "      <td>1.711222</td>\n",
       "      <td>0.992573</td>\n",
       "      <td>2.825166</td>\n",
       "      <td>1.530487</td>\n",
       "      <td>2.190773</td>\n",
       "    </tr>\n",
       "    <tr>\n",
       "      <th>std</th>\n",
       "      <td>0.803654</td>\n",
       "      <td>1.152766</td>\n",
       "      <td>2.162587</td>\n",
       "      <td>0.841009</td>\n",
       "      <td>2.667782</td>\n",
       "      <td>2.217806</td>\n",
       "      <td>1.185236</td>\n",
       "      <td>3.136717</td>\n",
       "    </tr>\n",
       "    <tr>\n",
       "      <th>min</th>\n",
       "      <td>1.000000</td>\n",
       "      <td>1.000000</td>\n",
       "      <td>1.000000</td>\n",
       "      <td>1.000000</td>\n",
       "      <td>0.000000</td>\n",
       "      <td>0.000000</td>\n",
       "      <td>0.000000</td>\n",
       "      <td>1.000000</td>\n",
       "    </tr>\n",
       "    <tr>\n",
       "      <th>25%</th>\n",
       "      <td>1.000000</td>\n",
       "      <td>1.000000</td>\n",
       "      <td>1.000000</td>\n",
       "      <td>1.000000</td>\n",
       "      <td>0.000000</td>\n",
       "      <td>1.000000</td>\n",
       "      <td>1.000000</td>\n",
       "      <td>1.000000</td>\n",
       "    </tr>\n",
       "    <tr>\n",
       "      <th>50%</th>\n",
       "      <td>1.000000</td>\n",
       "      <td>2.000000</td>\n",
       "      <td>2.000000</td>\n",
       "      <td>2.000000</td>\n",
       "      <td>1.000000</td>\n",
       "      <td>2.000000</td>\n",
       "      <td>1.000000</td>\n",
       "      <td>1.000000</td>\n",
       "    </tr>\n",
       "    <tr>\n",
       "      <th>75%</th>\n",
       "      <td>2.000000</td>\n",
       "      <td>3.000000</td>\n",
       "      <td>4.000000</td>\n",
       "      <td>2.000000</td>\n",
       "      <td>1.000000</td>\n",
       "      <td>4.000000</td>\n",
       "      <td>2.000000</td>\n",
       "      <td>2.000000</td>\n",
       "    </tr>\n",
       "    <tr>\n",
       "      <th>max</th>\n",
       "      <td>4.000000</td>\n",
       "      <td>9.000000</td>\n",
       "      <td>17.000000</td>\n",
       "      <td>5.000000</td>\n",
       "      <td>75.000000</td>\n",
       "      <td>20.000000</td>\n",
       "      <td>7.000000</td>\n",
       "      <td>41.000000</td>\n",
       "    </tr>\n",
       "  </tbody>\n",
       "</table>\n",
       "</div>"
      ],
      "text/plain": [
       "       ADMISSION_TYPE  ADMISSION_LOCATION  DISCHARGE_LOCATION     INSURANCE  \\\n",
       "count    58976.000000        58976.000000        58976.000000  58976.000000   \n",
       "mean         1.462612            2.149145            2.907030      1.711222   \n",
       "std          0.803654            1.152766            2.162587      0.841009   \n",
       "min          1.000000            1.000000            1.000000      1.000000   \n",
       "25%          1.000000            1.000000            1.000000      1.000000   \n",
       "50%          1.000000            2.000000            2.000000      2.000000   \n",
       "75%          2.000000            3.000000            4.000000      2.000000   \n",
       "max          4.000000            9.000000           17.000000      5.000000   \n",
       "\n",
       "           LANGUAGE      RELIGION  MARITAL_STATUS     ETHNICITY  \n",
       "count  58976.000000  58976.000000    58976.000000  58976.000000  \n",
       "mean       0.992573      2.825166        1.530487      2.190773  \n",
       "std        2.667782      2.217806        1.185236      3.136717  \n",
       "min        0.000000      0.000000        0.000000      1.000000  \n",
       "25%        0.000000      1.000000        1.000000      1.000000  \n",
       "50%        1.000000      2.000000        1.000000      1.000000  \n",
       "75%        1.000000      4.000000        2.000000      2.000000  \n",
       "max       75.000000     20.000000        7.000000     41.000000  "
      ]
     },
     "execution_count": 9,
     "metadata": {},
     "output_type": "execute_result"
    }
   ],
   "source": [
    "df_admissions[list_selected_admission_columns].describe()"
   ]
  },
  {
   "cell_type": "code",
   "execution_count": 10,
   "metadata": {},
   "outputs": [
    {
     "data": {
      "text/html": [
       "<div>\n",
       "<style scoped>\n",
       "    .dataframe tbody tr th:only-of-type {\n",
       "        vertical-align: middle;\n",
       "    }\n",
       "\n",
       "    .dataframe tbody tr th {\n",
       "        vertical-align: top;\n",
       "    }\n",
       "\n",
       "    .dataframe thead th {\n",
       "        text-align: right;\n",
       "    }\n",
       "</style>\n",
       "<table border=\"1\" class=\"dataframe\">\n",
       "  <thead>\n",
       "    <tr style=\"text-align: right;\">\n",
       "      <th></th>\n",
       "      <th>FLUID</th>\n",
       "      <th>CATEGORY</th>\n",
       "    </tr>\n",
       "  </thead>\n",
       "  <tbody>\n",
       "    <tr>\n",
       "      <th>count</th>\n",
       "      <td>753.000000</td>\n",
       "      <td>753.000000</td>\n",
       "    </tr>\n",
       "    <tr>\n",
       "      <th>mean</th>\n",
       "      <td>2.945551</td>\n",
       "      <td>1.618858</td>\n",
       "    </tr>\n",
       "    <tr>\n",
       "      <th>std</th>\n",
       "      <td>2.742196</td>\n",
       "      <td>0.874895</td>\n",
       "    </tr>\n",
       "    <tr>\n",
       "      <th>min</th>\n",
       "      <td>1.000000</td>\n",
       "      <td>1.000000</td>\n",
       "    </tr>\n",
       "    <tr>\n",
       "      <th>25%</th>\n",
       "      <td>1.000000</td>\n",
       "      <td>1.000000</td>\n",
       "    </tr>\n",
       "    <tr>\n",
       "      <th>50%</th>\n",
       "      <td>2.000000</td>\n",
       "      <td>1.000000</td>\n",
       "    </tr>\n",
       "    <tr>\n",
       "      <th>75%</th>\n",
       "      <td>4.000000</td>\n",
       "      <td>2.000000</td>\n",
       "    </tr>\n",
       "    <tr>\n",
       "      <th>max</th>\n",
       "      <td>16.000000</td>\n",
       "      <td>6.000000</td>\n",
       "    </tr>\n",
       "  </tbody>\n",
       "</table>\n",
       "</div>"
      ],
      "text/plain": [
       "            FLUID    CATEGORY\n",
       "count  753.000000  753.000000\n",
       "mean     2.945551    1.618858\n",
       "std      2.742196    0.874895\n",
       "min      1.000000    1.000000\n",
       "25%      1.000000    1.000000\n",
       "50%      2.000000    1.000000\n",
       "75%      4.000000    2.000000\n",
       "max     16.000000    6.000000"
      ]
     },
     "execution_count": 10,
     "metadata": {},
     "output_type": "execute_result"
    }
   ],
   "source": [
    "df_labitems[[\"FLUID\", \"CATEGORY\"]].describe()"
   ]
  },
  {
   "attachments": {},
   "cell_type": "markdown",
   "metadata": {},
   "source": [
    "---\n",
    "\n",
    "# Partition\n",
    "\n",
    "## Split of train-val by `HADM_ID`"
   ]
  },
  {
   "cell_type": "code",
   "execution_count": 11,
   "metadata": {},
   "outputs": [
    {
     "data": {
      "text/plain": [
       "array([100001, 100003, 100006, ..., 199995, 199998, 199999])"
      ]
     },
     "execution_count": 11,
     "metadata": {},
     "output_type": "execute_result"
    }
   ],
   "source": [
    "df_admissions.sort_values(by='HADM_ID', inplace=True)\n",
    "list_total_hadmid = df_admissions.HADM_ID.values\n",
    "list_total_hadmid"
   ]
  },
  {
   "cell_type": "code",
   "execution_count": 12,
   "metadata": {},
   "outputs": [
    {
     "data": {
      "text/plain": [
       "True"
      ]
     },
     "execution_count": 12,
     "metadata": {},
     "output_type": "execute_result"
    }
   ],
   "source": [
    "len(list_total_hadmid) == len(df_admissions.HADM_ID.unique())"
   ]
  },
  {
   "cell_type": "code",
   "execution_count": 13,
   "metadata": {},
   "outputs": [
    {
     "data": {
      "text/plain": [
       "(47180, 11796)"
      ]
     },
     "execution_count": 13,
     "metadata": {},
     "output_type": "execute_result"
    }
   ],
   "source": [
    "def get_train_val_test_hadmid_list(list_total_hadmid, split_ratio: float, shuffle: bool):\n",
    "    np.random.shuffle(list_total_hadmid) if shuffle else None\n",
    "    \n",
    "    length = len(list_total_hadmid)\n",
    "    list_train_hadmid = list_total_hadmid[0:int(length*split_ratio)]\n",
    "    list_val_hadmid = list_total_hadmid[int(length*split_ratio):]\n",
    "    \n",
    "    return list(list_train_hadmid), list(list_val_hadmid)\n",
    "\n",
    "list_train_hadmid, list_val_hadmid = get_train_val_test_hadmid_list(list_total_hadmid, 0.8, shuffle=True)\n",
    "len(list_train_hadmid), len(list_val_hadmid)"
   ]
  },
  {
   "cell_type": "code",
   "execution_count": 21,
   "metadata": {},
   "outputs": [
    {
     "data": {
      "application/vnd.jupyter.widget-view+json": {
       "model_id": "a059985e3eed41de808f82d6ccf43ef9",
       "version_major": 2,
       "version_minor": 0
      },
      "text/plain": [
       "  0%|          | 0/93 [00:00<?, ?it/s]"
      ]
     },
     "metadata": {},
     "output_type": "display_data"
    },
    {
     "data": {
      "application/vnd.jupyter.widget-view+json": {
       "model_id": "9cf005bdee3349f8b3939ffcda68cc83",
       "version_major": 2,
       "version_minor": 0
      },
      "text/plain": [
       "  0%|          | 0/24 [00:00<?, ?it/s]"
      ]
     },
     "metadata": {},
     "output_type": "display_data"
    }
   ],
   "source": [
    "def batches_spliter(list_hadmid: list, df_admissions, df_labevents, batch_size):\n",
    "    r\"\"\"split `df_admissions` and `df_labevents` into many batches by `HADM_ID`.\"\"\"\n",
    "    idx = 0\n",
    "    length = len(list_hadmid)\n",
    "    batches_hadmids = []\n",
    "    while (idx+batch_size) <= length:\n",
    "        batches_hadmids += [list_hadmid[idx:idx+batch_size]]\n",
    "        idx += batch_size\n",
    "    if idx < length:\n",
    "        batches_hadmids += [list_hadmid[idx:]]\n",
    "    \n",
    "    list_df_admissions_single_batch = []\n",
    "    list_df_labevents_single_batch = []\n",
    "    for batch_hadmids in tqdm(batches_hadmids):\n",
    "        list_df_admissions_single_batch.append(df_admissions[df_admissions.HADM_ID.isin(batch_hadmids)].copy())\n",
    "        list_df_labevents_single_batch.append(df_labevents[df_labevents.HADM_ID.isin(batch_hadmids)].copy())\n",
    "    \n",
    "    return list_df_admissions_single_batch, list_df_labevents_single_batch\n",
    "\n",
    "# TODO: try 64? 256? 512? 1024? ...\n",
    "batch_size = 512\n",
    "list_df_admissions_single_batch_train, list_df_labevents_single_batch_train = batches_spliter(list_train_hadmid, df_admissions, df_labevents, batch_size=batch_size)\n",
    "list_df_admissions_single_batch_val,   list_df_labevents_single_batch_val   = batches_spliter(list_val_hadmid,   df_admissions, df_labevents, batch_size=batch_size)"
   ]
  },
  {
   "cell_type": "markdown",
   "metadata": {},
   "source": [
    "# Constructing dynamic graph"
   ]
  },
  {
   "cell_type": "code",
   "execution_count": 15,
   "metadata": {},
   "outputs": [],
   "source": [
    "def construct_dynamic_hetero_graph(df_admissions_curr, df_labitems_curr, df_labevents_curr):\n",
    "    # Node features:\n",
    "    \n",
    "    ## admission\n",
    "    df_admissions_curr.sort_values(by='HADM_ID', inplace=True)\n",
    "    list_selected_admission_columns = ['ADMISSION_TYPE', 'ADMISSION_LOCATION', 'DISCHARGE_LOCATION', 'INSURANCE', 'LANGUAGE', 'RELIGION', 'MARITAL_STATUS', 'ETHNICITY']\n",
    "    nodes_feature_admission_curr = torch.from_numpy(df_admissions_curr[list_selected_admission_columns].values)\n",
    "    \n",
    "    ## labitems\n",
    "    df_labitems_curr.sort_values(by='ITEMID', inplace=True)\n",
    "    list_selected_labitems_columns = ['FLUID', 'CATEGORY']\n",
    "    nodes_feature_labitems = torch.from_numpy(df_labitems_curr[list_selected_labitems_columns].values)\n",
    "\n",
    "    # Edges:\n",
    "    df_labevents_curr.sort_values(by=[\"HADM_ID\", \"ITEMID\"], inplace=True)\n",
    "    \n",
    "    ## Edge indexes\n",
    "    # Create a mapping from unique hadm_id indices to range [0, num_hadm_nodes):\n",
    "    unique_hadm_id = df_admissions_curr.HADM_ID.sort_values().unique()\n",
    "    unique_hadm_id = pd.DataFrame(data={\n",
    "        'HADM_ID': unique_hadm_id,\n",
    "        'mappedID': pd.RangeIndex(len(unique_hadm_id)),\n",
    "    })\n",
    "    # Create a mapping from unique ITEMID indices to range [0, num_hadm_nodes):\n",
    "    unique_item_id = df_labitems_curr.ITEMID.sort_values().unique()\n",
    "    unique_item_id = pd.DataFrame(data={\n",
    "        'ITEMID': unique_item_id,\n",
    "        'mappedID': pd.RangeIndex(len(unique_item_id)),\n",
    "    })\n",
    "    \n",
    "    ### Perform merge to obtain the edges from HADM_ID and ITEMID:\n",
    "    ratings_hadm_id = pd.merge(df_labevents_curr['HADM_ID'], unique_hadm_id, left_on='HADM_ID', right_on='HADM_ID', how='left')\n",
    "    ratings_item_id = pd.merge(df_labevents_curr['ITEMID'], unique_item_id, left_on='ITEMID', right_on='ITEMID', how='left')\n",
    "\n",
    "    ratings_hadm_id = torch.from_numpy(ratings_hadm_id['mappedID'].values)\n",
    "    ratings_item_id = torch.from_numpy(ratings_item_id['mappedID'].values)\n",
    "    \n",
    "    edge_index_hadm_to_item = torch.stack([ratings_hadm_id, ratings_item_id], dim=0)\n",
    "    \n",
    "    ## Edge features\n",
    "    list_selected_labevents_columns = ['CATAGORY', 'VALUENUM_Z-SCORED']\n",
    "    edges_feature_labevents = torch.from_numpy(df_labevents_curr[list_selected_labevents_columns].values)\n",
    "    \n",
    "    ## Timesteps:\n",
    "    edges_timestep = torch.from_numpy(df_labevents_curr['TIMESTEP'].values)\n",
    "    \n",
    "    ################################# Assemble #################################\n",
    "    data = HeteroData()\n",
    "    \n",
    "    ## Node\n",
    "    data[\"admission\"].node_id = torch.arange(len(unique_hadm_id))  # node indices\n",
    "    data[\"labitem\"].node_id = torch.arange(len(unique_item_id))\n",
    "    data[\"admission\"].x = nodes_feature_admission_curr # node features:\n",
    "    data[\"labitem\"].x = nodes_feature_labitems\n",
    "\n",
    "    ## edge:\n",
    "    data[\"admission\", \"did\", \"labitem\"].edge_index = edge_index_hadm_to_item\n",
    "    data[\"admission\", \"did\", \"labitem\"].x = edges_feature_labevents\n",
    "    data[\"admission\", \"did\", \"labitem\"].timestep = edges_timestep\n",
    "\n",
    "    # We also need to make sure to add the reverse edges from labitems to admission\n",
    "    # in order to let a GNN be able to pass messages in both directions.\n",
    "    # We can leverage the `T.ToUndirected()` transform for this from PyG:\n",
    "    data = T.ToUndirected()(data)\n",
    "    \n",
    "    # For debug NaN\n",
    "    assert not data[\"admission\"].node_id.isnan().any()\n",
    "    assert not data[\"admission\"].x.isnan().any()\n",
    "    assert not data[\"labitem\"].node_id.isnan().any()\n",
    "    assert not data[\"labitem\"].x.isnan().any()\n",
    "    \n",
    "    assert data[\"admission\", \"did\", \"labitem\"].edge_index.shape[-1] > 0\n",
    "    assert not data[\"admission\", \"did\", \"labitem\"].edge_index.isnan().any()\n",
    "    assert not data[\"admission\", \"did\", \"labitem\"].x.isnan().any()\n",
    "    \n",
    "    assert data['labitem', 'rev_did', 'admission'].edge_index.shape[-1] > 0\n",
    "    assert not data['labitem', 'rev_did', 'admission'].edge_index.isnan().any()\n",
    "    assert not data['labitem', 'rev_did', 'admission'].x.isnan().any()\n",
    "    \n",
    "    return data"
   ]
  },
  {
   "cell_type": "code",
   "execution_count": 22,
   "metadata": {},
   "outputs": [
    {
     "data": {
      "application/vnd.jupyter.widget-view+json": {
       "model_id": "dcbea006cddd4a599337a66b5d4071fd",
       "version_major": 2,
       "version_minor": 0
      },
      "text/plain": [
       "0it [00:00, ?it/s]"
      ]
     },
     "metadata": {},
     "output_type": "display_data"
    },
    {
     "data": {
      "application/vnd.jupyter.widget-view+json": {
       "model_id": "5bb305b3061b4981b00a2f071b9277be",
       "version_major": 2,
       "version_minor": 0
      },
      "text/plain": [
       "0it [00:00, ?it/s]"
      ]
     },
     "metadata": {},
     "output_type": "display_data"
    }
   ],
   "source": [
    "train_hgs = [construct_dynamic_hetero_graph(df_admissions_single_batch, df_labitems, df_labevents_single_batch) for df_admissions_single_batch, df_labevents_single_batch in tqdm(zip(list_df_admissions_single_batch_train, list_df_labevents_single_batch_train))]\n",
    "val_hgs   = [construct_dynamic_hetero_graph(df_admissions_single_batch, df_labitems, df_labevents_single_batch) for df_admissions_single_batch, df_labevents_single_batch in tqdm(zip(list_df_admissions_single_batch_val,   list_df_labevents_single_batch_val))]\n",
    "\n",
    "path_hgs = r\"/data/data2/041/datasets/mimic-iii-hgs\"\n",
    "path_hgs_curr = os.path.join(path_hgs, f'batch_size_{batch_size}')\n",
    "\n",
    "if os.path.isdir(path_hgs_curr):\n",
    "    shutil.rmtree(path_hgs_curr)\n",
    "    \n",
    "os.mkdir(path_hgs_curr)\n",
    "\n",
    "os.mkdir(os.path.join(path_hgs_curr, \"train\"))\n",
    "for idx, train_hg in enumerate(train_hgs):\n",
    "    torch.save(train_hg, f'{os.path.join(os.path.join(path_hgs_curr, \"train\"), str(idx))}.pt')\n",
    "\n",
    "os.mkdir(os.path.join(path_hgs_curr, \"val\"))\n",
    "for idx, train_hg in enumerate(val_hgs):\n",
    "    torch.save(train_hg, f'{os.path.join(os.path.join(path_hgs_curr, \"val\"), str(idx))}.pt')"
   ]
  },
  {
   "cell_type": "markdown",
   "metadata": {},
   "source": [
    "# Sub-Graph by `timestep`"
   ]
  },
  {
   "cell_type": "code",
   "execution_count": 17,
   "metadata": {},
   "outputs": [
    {
     "data": {
      "text/plain": [
       "HeteroData(\n",
       "  labels=[2, 3499],\n",
       "  \u001b[1madmission\u001b[0m={\n",
       "    node_id=[128],\n",
       "    x=[128, 8]\n",
       "  },\n",
       "  \u001b[1mlabitem\u001b[0m={\n",
       "    node_id=[753],\n",
       "    x=[753, 2]\n",
       "  },\n",
       "  \u001b[1m(admission, did, labitem)\u001b[0m={\n",
       "    edge_index=[2, 4836],\n",
       "    x=[4836, 2]\n",
       "  },\n",
       "  \u001b[1m(labitem, rev_did, admission)\u001b[0m={\n",
       "    edge_index=[2, 4836],\n",
       "    x=[4836, 2]\n",
       "  }\n",
       ")"
      ]
     },
     "execution_count": 17,
     "metadata": {},
     "output_type": "execute_result"
    }
   ],
   "source": [
    "def get_subgraph_by_timestep(hg, timestep):\n",
    "    mask = torch.BoolTensor(hg[\"admission\", \"did\", \"labitem\"].timestep == timestep)\n",
    "    eidx = hg[\"admission\", \"did\", \"labitem\"].edge_index[:, mask]\n",
    "    ex = hg[\"admission\", \"did\", \"labitem\"].x[mask, :]\n",
    "    \n",
    "    sub_hg = HeteroData()\n",
    "    \n",
    "    # Nodes\n",
    "    sub_hg[\"admission\"].node_id = hg[\"admission\"].node_id.clone()\n",
    "    sub_hg[\"admission\"].x = hg[\"admission\"].x.clone()\n",
    "    \n",
    "    sub_hg[\"labitem\"].node_id = hg[\"labitem\"].node_id.clone()\n",
    "    sub_hg[\"labitem\"].x = hg[\"labitem\"].x.clone()\n",
    "    \n",
    "    # Edges\n",
    "    sub_hg[\"admission\", \"did\", \"labitem\"].edge_index = eidx.clone()\n",
    "    sub_hg[\"admission\", \"did\", \"labitem\"].x = ex.clone()\n",
    "    \n",
    "    # TODO: labels? edge_index of next timestep\n",
    "    assert timestep < torch.max(hg[\"admission\", \"did\", \"labitem\"].timestep), \"last timestep has not labels!\"\n",
    "    mask_next_t = torch.BoolTensor(hg[\"admission\", \"did\", \"labitem\"].timestep == (timestep+1))\n",
    "    sub_hg.labels = hg[\"admission\", \"did\", \"labitem\"].edge_index[:, mask_next_t].clone()\n",
    "    \n",
    "    sub_hg = T.ToUndirected()(sub_hg)\n",
    "    return sub_hg\n",
    "\n",
    "subgraph_temp = get_subgraph_by_timestep(train_hgs[0], timestep=0)\n",
    "subgraph_temp"
   ]
  },
  {
   "cell_type": "code",
   "execution_count": 18,
   "metadata": {},
   "outputs": [
    {
     "data": {
      "text/plain": [
       "HeteroData(\n",
       "  labels=[2, 3716],\n",
       "  \u001b[1madmission\u001b[0m={\n",
       "    node_id=[128],\n",
       "    x=[128, 8]\n",
       "  },\n",
       "  \u001b[1mlabitem\u001b[0m={\n",
       "    node_id=[753],\n",
       "    x=[753, 2]\n",
       "  },\n",
       "  \u001b[1m(admission, did, labitem)\u001b[0m={\n",
       "    edge_index=[2, 5106],\n",
       "    x=[5106, 2]\n",
       "  },\n",
       "  \u001b[1m(labitem, rev_did, admission)\u001b[0m={\n",
       "    edge_index=[2, 5106],\n",
       "    x=[5106, 2]\n",
       "  }\n",
       ")"
      ]
     },
     "execution_count": 18,
     "metadata": {},
     "output_type": "execute_result"
    }
   ],
   "source": [
    "train_set = MyOwnDataset(root_path=rf\"/data/data2/041/datasets/mimic-iii-hgs/batch_size_{batch_size}\", usage=\"train\")\n",
    "\n",
    "max_timestep = 20\n",
    "curr_subgraphs = [get_subgraph_by_timestep(train_set[0], timestep=t) for t in range(20)]\n",
    "curr_subgraphs[0]"
   ]
  },
  {
   "cell_type": "code",
   "execution_count": null,
   "metadata": {},
   "outputs": [],
   "source": []
  }
 ],
 "metadata": {
  "kernelspec": {
   "display_name": "Python 3 (ipykernel)",
   "language": "python",
   "name": "python3"
  },
  "language_info": {
   "codemirror_mode": {
    "name": "ipython",
    "version": 3
   },
   "file_extension": ".py",
   "mimetype": "text/x-python",
   "name": "python",
   "nbconvert_exporter": "python",
   "pygments_lexer": "ipython3",
   "version": "3.9.0"
  }
 },
 "nbformat": 4,
 "nbformat_minor": 2
}
