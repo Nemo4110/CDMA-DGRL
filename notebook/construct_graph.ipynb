{
 "cells": [
  {
   "cell_type": "code",
   "execution_count": 1,
   "metadata": {},
   "outputs": [
    {
     "data": {
      "text/html": [
       "<style type='text/css'>\n",
       ".CodeMirror{\n",
       "    font-family: Consolas;\n",
       "    font-size: 15px;\n",
       "}\n",
       "\n",
       "div.output_area pre {\n",
       "    font-family: Consolas;\n",
       "    font-size: 12px;\n",
       "}\n",
       "</style>\n"
      ],
      "text/plain": [
       "<IPython.core.display.HTML object>"
      ]
     },
     "metadata": {},
     "output_type": "display_data"
    }
   ],
   "source": [
    "%%html\n",
    "<style type='text/css'>\n",
    ".CodeMirror{\n",
    "    font-family: Consolas;\n",
    "    font-size: 15px;\n",
    "}\n",
    "\n",
    "div.output_area pre {\n",
    "    font-family: Consolas;\n",
    "    font-size: 12px;\n",
    "}\n",
    "</style>"
   ]
  },
  {
   "cell_type": "code",
   "execution_count": 7,
   "metadata": {},
   "outputs": [
    {
     "name": "stdout",
     "output_type": "stream",
     "text": [
      "2.3.0\n"
     ]
    }
   ],
   "source": [
    "import pandas as pd\n",
    "import os, shutil\n",
    "import torch\n",
    "import numpy as np\n",
    "\n",
    "import matplotlib\n",
    "\n",
    "import torch_geometric; print(torch_geometric.__version__)\n",
    "import torch_geometric.transforms as T\n",
    "\n",
    "from tqdm import tqdm\n",
    "from torch_geometric.data import HeteroData\n",
    "from torch_geometric.loader import DataLoader\n",
    "\n",
    "import sys; sys.path.append('..')\n",
    "from dataset.hgs import MyOwnDataset"
   ]
  },
  {
   "cell_type": "markdown",
   "metadata": {},
   "source": [
    "# Design\n",
    "\n",
    "Heterogeneous Graph:\n",
    "\n",
    "- Nodes: \n",
    "  - hadm_ids(can merge with patients by subject_id)\n",
    "  - labitems\n",
    "- Node Features:\n",
    "  - hadm_ids: \n",
    "    - ADMISSION_TYPE\n",
    "    - ADMISSION_LOCATION\n",
    "    - DISCHARGE_LOCATION\n",
    "    - INSURANCE\n",
    "    - LANGUAGE\n",
    "    - RELIGION\n",
    "    - MARITAL_STATUS\n",
    "    - ETHNICITY\n",
    "    - TOP-10 (or TOP-?) diagnoses_icd record, 10 demensions vecter with ICD-9 code (should be rearranged by frequency?) respective\n",
    "  - labitems:\n",
    "    - FLUID\n",
    "    - CATEGORY\n",
    "- Edges:\n",
    "  - hadm_id *did* labitem\n",
    "- Edge_features:\n",
    "  - z-score (for value type labitems)\n",
    "  - category (for non-value type labitems)\n",
    "  - ~~FLAG~~ (Don't use this, because many entry were found with obvious abnormal value but without abnormal flag!)\n",
    "- Labels: \n",
    "  - edge-level prediction task\n",
    "  - predict weather edges exist at $T_n$ base on graph from $T_{n-1}$ to $T_0$\n",
    "- Timesteps:\n",
    "  - half a day as interval? or full a day? **Finally, we chose full a day (24 hours)**\n",
    "  - automatically omit vacant day (without labevent entry), skip to next non-vacant day as next timestep\n",
    "- Temporal graph shape: \n",
    "  - Dynamic\n",
    "  - edge change over time\n",
    "\n",
    "Note: \n",
    "In practice, a patient won't have *diagnoses_icd* when he/she first enters a hospital, and the *diagnoses_icd* records don't have timestamp. \n",
    "So, the connection between *hadm_ids* and *diagnoses_icd* is a final result after all *lebitems* being executed. \n",
    "Hence, here raises 3 choices, \n",
    "- letting *diagnoses_icd* acts as **node** which exists connections between *hadm_ids*\n",
    "- letting *diagnoses_icd* acts as **node_feature** of *hadm_ids* (Being choosen)\n",
    "- don't use it"
   ]
  },
  {
   "cell_type": "code",
   "execution_count": 3,
   "metadata": {},
   "outputs": [
    {
     "data": {
      "text/html": [
       "<div>\n",
       "<style scoped>\n",
       "    .dataframe tbody tr th:only-of-type {\n",
       "        vertical-align: middle;\n",
       "    }\n",
       "\n",
       "    .dataframe tbody tr th {\n",
       "        vertical-align: top;\n",
       "    }\n",
       "\n",
       "    .dataframe thead th {\n",
       "        text-align: right;\n",
       "    }\n",
       "</style>\n",
       "<table border=\"1\" class=\"dataframe\">\n",
       "  <thead>\n",
       "    <tr style=\"text-align: right;\">\n",
       "      <th></th>\n",
       "      <th>Unnamed: 0.1</th>\n",
       "      <th>Unnamed: 0</th>\n",
       "      <th>ROW_ID</th>\n",
       "      <th>SUBJECT_ID</th>\n",
       "      <th>HADM_ID</th>\n",
       "      <th>ITEMID</th>\n",
       "      <th>CHARTTIME</th>\n",
       "      <th>VALUE</th>\n",
       "      <th>VALUENUM</th>\n",
       "      <th>VALUEUOM</th>\n",
       "      <th>FLAG</th>\n",
       "      <th>CATAGORY</th>\n",
       "      <th>VALUENUM_Z-SCORED</th>\n",
       "      <th>TIMESTEP</th>\n",
       "    </tr>\n",
       "  </thead>\n",
       "  <tbody>\n",
       "    <tr>\n",
       "      <th>0</th>\n",
       "      <td>0</td>\n",
       "      <td>0</td>\n",
       "      <td>22441088</td>\n",
       "      <td>58526</td>\n",
       "      <td>100001.0</td>\n",
       "      <td>50813</td>\n",
       "      <td>2117-09-11 08:32:00</td>\n",
       "      <td>1.9</td>\n",
       "      <td>1.9</td>\n",
       "      <td>mmol/L</td>\n",
       "      <td>NaN</td>\n",
       "      <td>0.0</td>\n",
       "      <td>1.514176</td>\n",
       "      <td>0.0</td>\n",
       "    </tr>\n",
       "    <tr>\n",
       "      <th>1</th>\n",
       "      <td>1</td>\n",
       "      <td>1</td>\n",
       "      <td>22441061</td>\n",
       "      <td>58526</td>\n",
       "      <td>100001.0</td>\n",
       "      <td>50861</td>\n",
       "      <td>2117-09-11 08:22:00</td>\n",
       "      <td>10</td>\n",
       "      <td>10.0</td>\n",
       "      <td>IU/L</td>\n",
       "      <td>NaN</td>\n",
       "      <td>0.0</td>\n",
       "      <td>-1.200442</td>\n",
       "      <td>0.0</td>\n",
       "    </tr>\n",
       "    <tr>\n",
       "      <th>2</th>\n",
       "      <td>2</td>\n",
       "      <td>2</td>\n",
       "      <td>22441062</td>\n",
       "      <td>58526</td>\n",
       "      <td>100001.0</td>\n",
       "      <td>50863</td>\n",
       "      <td>2117-09-11 08:22:00</td>\n",
       "      <td>105</td>\n",
       "      <td>105.0</td>\n",
       "      <td>IU/L</td>\n",
       "      <td>NaN</td>\n",
       "      <td>0.0</td>\n",
       "      <td>1.285326</td>\n",
       "      <td>0.0</td>\n",
       "    </tr>\n",
       "    <tr>\n",
       "      <th>3</th>\n",
       "      <td>3</td>\n",
       "      <td>3</td>\n",
       "      <td>22441320</td>\n",
       "      <td>58526</td>\n",
       "      <td>100001.0</td>\n",
       "      <td>50868</td>\n",
       "      <td>2117-09-17 05:45:00</td>\n",
       "      <td>14</td>\n",
       "      <td>14.0</td>\n",
       "      <td>mEq/L</td>\n",
       "      <td>NaN</td>\n",
       "      <td>0.0</td>\n",
       "      <td>0.227316</td>\n",
       "      <td>6.0</td>\n",
       "    </tr>\n",
       "    <tr>\n",
       "      <th>4</th>\n",
       "      <td>8</td>\n",
       "      <td>8</td>\n",
       "      <td>22441141</td>\n",
       "      <td>58526</td>\n",
       "      <td>100001.0</td>\n",
       "      <td>50868</td>\n",
       "      <td>2117-09-11 23:17:00</td>\n",
       "      <td>16</td>\n",
       "      <td>16.0</td>\n",
       "      <td>mEq/L</td>\n",
       "      <td>NaN</td>\n",
       "      <td>0.0</td>\n",
       "      <td>0.935255</td>\n",
       "      <td>0.0</td>\n",
       "    </tr>\n",
       "  </tbody>\n",
       "</table>\n",
       "</div>"
      ],
      "text/plain": [
       "   Unnamed: 0.1  Unnamed: 0    ROW_ID  SUBJECT_ID   HADM_ID  ITEMID   \n",
       "0             0           0  22441088       58526  100001.0   50813  \\\n",
       "1             1           1  22441061       58526  100001.0   50861   \n",
       "2             2           2  22441062       58526  100001.0   50863   \n",
       "3             3           3  22441320       58526  100001.0   50868   \n",
       "4             8           8  22441141       58526  100001.0   50868   \n",
       "\n",
       "             CHARTTIME VALUE  VALUENUM VALUEUOM FLAG  CATAGORY   \n",
       "0  2117-09-11 08:32:00   1.9       1.9   mmol/L  NaN       0.0  \\\n",
       "1  2117-09-11 08:22:00    10      10.0     IU/L  NaN       0.0   \n",
       "2  2117-09-11 08:22:00   105     105.0     IU/L  NaN       0.0   \n",
       "3  2117-09-17 05:45:00    14      14.0    mEq/L  NaN       0.0   \n",
       "4  2117-09-11 23:17:00    16      16.0    mEq/L  NaN       0.0   \n",
       "\n",
       "   VALUENUM_Z-SCORED  TIMESTEP  \n",
       "0           1.514176       0.0  \n",
       "1          -1.200442       0.0  \n",
       "2           1.285326       0.0  \n",
       "3           0.227316       6.0  \n",
       "4           0.935255       0.0  "
      ]
     },
     "execution_count": 3,
     "metadata": {},
     "output_type": "execute_result"
    }
   ],
   "source": [
    "path_dataset = r\"/data/data2/041/datasets/mimic-iii-clinical-database-1.4\"\n",
    "list_csvgz = [f for f in os.listdir(path_dataset) if f[-6:]==\"csv.gz\"]\n",
    "# [f for f in list_csvgz if f[-10:-7]=='NEW']\n",
    "\n",
    "df_admissions = pd.read_csv(os.path.join(path_dataset, \"ADMISSIONS_NEW.csv.gz\"))\n",
    "df_labitems = pd.read_csv(os.path.join(path_dataset, \"D_LABITEMS_NEW.csv.gz\"))\n",
    "# df_labevents = pd.read_csv(os.path.join(path_dataset, \"LABEVENTS_NEW.csv.gz\"))\n",
    "df_labevents = pd.read_csv(os.path.join(path_dataset, \"LABEVENTS_NEW_remove_duplicate_edges.csv.gz\"))\n",
    "\n",
    "df_labevents.head()"
   ]
  },
  {
   "cell_type": "markdown",
   "metadata": {},
   "source": [
    "# Preprocessing"
   ]
  },
  {
   "cell_type": "markdown",
   "metadata": {},
   "source": [
    "## Split of train-val-test by `HADM_ID`"
   ]
  },
  {
   "cell_type": "code",
   "execution_count": 4,
   "metadata": {},
   "outputs": [
    {
     "data": {
      "text/plain": [
       "array([100001, 100003, 100006, ..., 199995, 199998, 199999])"
      ]
     },
     "execution_count": 4,
     "metadata": {},
     "output_type": "execute_result"
    }
   ],
   "source": [
    "df_admissions.sort_values(by='HADM_ID', inplace=True)\n",
    "list_total_hadmid = df_admissions.HADM_ID.values\n",
    "list_total_hadmid"
   ]
  },
  {
   "cell_type": "code",
   "execution_count": 5,
   "metadata": {},
   "outputs": [],
   "source": [
    "def get_train_val_test_hadmid_list(\n",
    "    list_total_hadmid, \n",
    "    ratio_train: float,\n",
    "    ratio_val: float,\n",
    "    ratio_test: float,\n",
    "    shuffle: bool\n",
    "):\n",
    "    np.random.shuffle(list_total_hadmid) if shuffle else None\n",
    "    \n",
    "    assert (ratio_train + ratio_val + ratio_test) == 1, f\"args 'ratio_train', 'ratio_val', 'ratio_test' should sum up to 1!\"\n",
    "    \n",
    "    length = len(list_total_hadmid)\n",
    "    list_train_hadmid = list_total_hadmid[0:int(length*ratio_train)]\n",
    "    list_val_hadmid = list_total_hadmid[int(length*ratio_train):int(length*(ratio_train + ratio_val))]\n",
    "    list_test_hadmid = list_total_hadmid[int(length*(ratio_train + ratio_val)):]\n",
    "    return list(list_train_hadmid), list(list_val_hadmid), list(list_test_hadmid)\n",
    "\n",
    "list_train_hadmid, list_val_hadmid, list_test_hadmid = get_train_val_test_hadmid_list(list_total_hadmid, 0.8, 0.1, 0.1, shuffle=True)"
   ]
  },
  {
   "cell_type": "code",
   "execution_count": 6,
   "metadata": {},
   "outputs": [
    {
     "data": {
      "text/plain": [
       "(47180, 5898, 5898)"
      ]
     },
     "execution_count": 6,
     "metadata": {},
     "output_type": "execute_result"
    }
   ],
   "source": [
    "len(list_train_hadmid), len(list_val_hadmid), len(list_test_hadmid)"
   ]
  },
  {
   "cell_type": "code",
   "execution_count": 7,
   "metadata": {},
   "outputs": [
    {
     "name": "stderr",
     "output_type": "stream",
     "text": [
      "100%|██████████████████████████████| 369/369 [1:14:12<00:00, 12.07s/it]\n",
      "100%|██████████████████████████████████| 47/47 [11:08<00:00, 14.22s/it]\n",
      "100%|██████████████████████████████████| 47/47 [11:05<00:00, 14.17s/it]\n"
     ]
    }
   ],
   "source": [
    "def batches_spliter(list_hadmid: list, df_admissions, df_labevents, batch_size):\n",
    "    r\"\"\"split `df_admissions` and `df_labevents` into many batches by `HADM_ID`.\"\"\"\n",
    "    idx = 0\n",
    "    length = len(list_hadmid)\n",
    "    batches_hadmids = []\n",
    "    while (idx+batch_size) <= length:\n",
    "        batches_hadmids += [list_hadmid[idx:idx+batch_size]]\n",
    "        idx += batch_size\n",
    "    if idx < length:\n",
    "        batches_hadmids += [list_hadmid[idx:]]\n",
    "    \n",
    "    list_df_admissions_single_batch = []\n",
    "    list_df_labevents_single_batch = []\n",
    "    for batch_hadmids in tqdm(batches_hadmids):\n",
    "        list_df_admissions_single_batch.append(df_admissions[df_admissions.HADM_ID.isin(batch_hadmids)].copy())\n",
    "        list_df_labevents_single_batch.append(df_labevents[df_labevents.HADM_ID.isin(batch_hadmids)].copy())\n",
    "    \n",
    "    return list_df_admissions_single_batch, list_df_labevents_single_batch\n",
    "\n",
    "batch_size = 128  # TODO: try 64? 256? 512? 1024? ...\n",
    "list_df_admissions_single_batch_train, list_df_labevents_single_batch_train = batches_spliter(list_train_hadmid, df_admissions, df_labevents, batch_size=batch_size)\n",
    "list_df_admissions_single_batch_val,   list_df_labevents_single_batch_val   = batches_spliter(list_val_hadmid,   df_admissions, df_labevents, batch_size=batch_size)\n",
    "list_df_admissions_single_batch_test,  list_df_labevents_single_batch_test  = batches_spliter(list_test_hadmid,  df_admissions, df_labevents, batch_size=batch_size)"
   ]
  },
  {
   "cell_type": "markdown",
   "metadata": {},
   "source": [
    "# Constructing dynamic graph"
   ]
  },
  {
   "cell_type": "code",
   "execution_count": 8,
   "metadata": {},
   "outputs": [],
   "source": [
    "def construct_dynamic_hetero_graph(df_admissions_curr, df_labitems_curr, df_labevents_curr):\n",
    "    # Node features:\n",
    "    \n",
    "    ## admission\n",
    "    df_admissions_curr.sort_values(by='HADM_ID', inplace=True)\n",
    "    \n",
    "    list_selected_admission_columns = ['ADMISSION_TYPE', 'ADMISSION_LOCATION', 'DISCHARGE_LOCATION', 'INSURANCE', 'LANGUAGE', 'RELIGION', 'MARITAL_STATUS', 'ETHNICITY']\n",
    "    nodes_feature_admission_curr = torch.from_numpy(df_admissions_curr[list_selected_admission_columns].values)\n",
    "    \n",
    "    ## labitems\n",
    "    df_labitems_curr.sort_values(by='ITEMID', inplace=True)\n",
    "    \n",
    "    list_selected_labitems_columns = ['FLUID', 'CATEGORY']\n",
    "    nodes_feature_labitems = torch.from_numpy(df_labitems_curr[list_selected_labitems_columns].values)\n",
    "\n",
    "    # Edges:\n",
    "    df_labevents_curr.sort_values(by=[\"HADM_ID\", \"ITEMID\"], inplace=True)\n",
    "    \n",
    "    ## Edge indexes\n",
    "    \n",
    "    # Create a mapping from unique hadm_id indices to range [0, num_hadm_nodes):\n",
    "    unique_hadm_id = df_admissions_curr.HADM_ID.sort_values().unique()\n",
    "    unique_hadm_id = pd.DataFrame(data={\n",
    "        'HADM_ID': unique_hadm_id,\n",
    "        'mappedID': pd.RangeIndex(len(unique_hadm_id)),\n",
    "    })\n",
    "\n",
    "    # Create a mapping from unique ITEMID indices to range [0, num_hadm_nodes):\n",
    "    unique_item_id = df_labitems_curr.ITEMID.sort_values().unique()\n",
    "    unique_item_id = pd.DataFrame(data={\n",
    "        'ITEMID': unique_item_id,\n",
    "        'mappedID': pd.RangeIndex(len(unique_item_id)),\n",
    "    })\n",
    "    \n",
    "    ### Perform merge to obtain the edges from HADM_ID and ITEMID:\n",
    "    ratings_hadm_id = pd.merge(df_labevents_curr['HADM_ID'], unique_hadm_id, left_on='HADM_ID', right_on='HADM_ID', how='left')\n",
    "    ratings_item_id = pd.merge(df_labevents_curr['ITEMID'], unique_item_id, left_on='ITEMID', right_on='ITEMID', how='left')\n",
    "\n",
    "    ratings_hadm_id = torch.from_numpy(ratings_hadm_id['mappedID'].values)\n",
    "    ratings_item_id = torch.from_numpy(ratings_item_id['mappedID'].values)\n",
    "    \n",
    "    edge_index_hadm_to_item = torch.stack([ratings_hadm_id, ratings_item_id], dim=0)\n",
    "    \n",
    "    ## Edge features\n",
    "    list_selected_labevents_columns = ['CATAGORY', 'VALUENUM_Z-SCORED']\n",
    "    edges_feature_labevents = torch.from_numpy(df_labevents_curr[list_selected_labevents_columns].values)\n",
    "    \n",
    "    ## Timesteps:\n",
    "    edges_timestep = torch.from_numpy(df_labevents_curr['TIMESTEP'].values)\n",
    "    \n",
    "    ################################# Assemble #################################\n",
    "    data = HeteroData()\n",
    "    \n",
    "    ## Node\n",
    "    data[\"admission\"].node_id = torch.arange(len(unique_hadm_id))  # node indices\n",
    "    data[\"labitem\"].node_id = torch.arange(len(unique_item_id))\n",
    "    data[\"admission\"].x = nodes_feature_admission_curr # node features:\n",
    "    data[\"labitem\"].x = nodes_feature_labitems\n",
    "\n",
    "    ## edge:\n",
    "    data[\"admission\", \"did\", \"labitem\"].edge_index = edge_index_hadm_to_item\n",
    "    data[\"admission\", \"did\", \"labitem\"].x = edges_feature_labevents\n",
    "    data[\"admission\", \"did\", \"labitem\"].timestep = edges_timestep\n",
    "\n",
    "    # We also need to make sure to add the reverse edges from labitems to admission\n",
    "    # in order to let a GNN be able to pass messages in both directions.\n",
    "    # We can leverage the `T.ToUndirected()` transform for this from PyG:\n",
    "    data = T.ToUndirected()(data)\n",
    "\n",
    "    return data\n",
    "\n",
    "# train_hg = construct_dynamic_hetero_graph(df_admissions_train, df_labitems, df_labevents_train)\n",
    "# val_hg = construct_dynamic_hetero_graph(df_admissions_val, df_labitems, df_labevents_val)\n",
    "# test_hg = construct_dynamic_hetero_graph(df_admissions_test, df_labitems, df_labevents_test)"
   ]
  },
  {
   "cell_type": "code",
   "execution_count": 9,
   "metadata": {},
   "outputs": [
    {
     "name": "stderr",
     "output_type": "stream",
     "text": [
      "369it [00:03, 101.79it/s]\n",
      "47it [00:00, 106.68it/s]\n",
      "47it [00:00, 106.72it/s]\n"
     ]
    }
   ],
   "source": [
    "train_hgs = [construct_dynamic_hetero_graph(df_admissions_single_batch, df_labitems, df_labevents_single_batch) for df_admissions_single_batch, df_labevents_single_batch in zip(list_df_admissions_single_batch_train, list_df_labevents_single_batch_train)]\n",
    "val_hgs = [construct_dynamic_hetero_graph(df_admissions_single_batch, df_labitems, df_labevents_single_batch) for df_admissions_single_batch, df_labevents_single_batch in zip(list_df_admissions_single_batch_val, list_df_labevents_single_batch_val)]\n",
    "test_hgs = [construct_dynamic_hetero_graph(df_admissions_single_batch, df_labitems, df_labevents_single_batch) for df_admissions_single_batch, df_labevents_single_batch in zip(list_df_admissions_single_batch_test, list_df_labevents_single_batch_test)]"
   ]
  },
  {
   "cell_type": "code",
   "execution_count": 16,
   "metadata": {},
   "outputs": [],
   "source": [
    "path_hgs = r\"/data/data2/041/datasets/mimic-iii-hgs\"\n",
    "path_hgs_curr = os.path.join(path_hgs, f'batch_size_{batch_size}')\n",
    "\n",
    "if os.path.isdir(path_hgs_curr):\n",
    "    shutil.rmtree(path_hgs_curr)\n",
    "    \n",
    "os.mkdir(path_hgs_curr)\n",
    "\n",
    "os.mkdir(os.path.join(path_hgs_curr, \"train\"))\n",
    "for idx, train_hg in enumerate(train_hgs):\n",
    "    torch.save(train_hg, f'{os.path.join(os.path.join(path_hgs_curr, \"train\"), str(idx))}.pt')\n",
    "\n",
    "os.mkdir(os.path.join(path_hgs_curr, \"val\"))\n",
    "for idx, train_hg in enumerate(val_hgs):\n",
    "    torch.save(train_hg, f'{os.path.join(os.path.join(path_hgs_curr, \"val\"), str(idx))}.pt')\n",
    "\n",
    "os.mkdir(os.path.join(path_hgs_curr, \"test\"))\n",
    "for idx, train_hg in enumerate(test_hgs):\n",
    "    torch.save(train_hg, f'{os.path.join(os.path.join(path_hgs_curr, \"test\"), str(idx))}.pt')"
   ]
  },
  {
   "cell_type": "markdown",
   "metadata": {},
   "source": [
    "# Sub-Graph by `timestep`"
   ]
  },
  {
   "cell_type": "code",
   "execution_count": 11,
   "metadata": {},
   "outputs": [
    {
     "data": {
      "text/plain": [
       "HeteroData(\n",
       "  labels=[2, 28617],\n",
       "  \u001b[1madmission\u001b[0m={\n",
       "    node_id=[1024],\n",
       "    x=[1024, 8]\n",
       "  },\n",
       "  \u001b[1mlabitem\u001b[0m={\n",
       "    node_id=[6024],\n",
       "    x=[6024, 2]\n",
       "  },\n",
       "  \u001b[1m(admission, did, labitem)\u001b[0m={\n",
       "    edge_index=[2, 39450],\n",
       "    x=[39450, 2]\n",
       "  },\n",
       "  \u001b[1m(labitem, rev_did, admission)\u001b[0m={\n",
       "    edge_index=[2, 39450],\n",
       "    x=[39450, 2]\n",
       "  }\n",
       ")"
      ]
     },
     "execution_count": 11,
     "metadata": {},
     "output_type": "execute_result"
    }
   ],
   "source": [
    "def get_subgraph_by_timestep(hg, timestep):\n",
    "    mask = torch.BoolTensor(hg[\"admission\", \"did\", \"labitem\"].timestep == timestep)\n",
    "    eidx = hg[\"admission\", \"did\", \"labitem\"].edge_index[:, mask]\n",
    "    ex = hg[\"admission\", \"did\", \"labitem\"].x[mask, :]\n",
    "    \n",
    "    sub_hg = HeteroData()\n",
    "    \n",
    "    # Nodes\n",
    "    sub_hg[\"admission\"].node_id = hg[\"admission\"].node_id.clone()\n",
    "    sub_hg[\"admission\"].x = hg[\"admission\"].x.clone()\n",
    "    \n",
    "    sub_hg[\"labitem\"].node_id = hg[\"labitem\"].node_id.clone()\n",
    "    sub_hg[\"labitem\"].x = hg[\"labitem\"].x.clone()\n",
    "    \n",
    "    # Edges\n",
    "    sub_hg[\"admission\", \"did\", \"labitem\"].edge_index = eidx.clone()\n",
    "    sub_hg[\"admission\", \"did\", \"labitem\"].x = ex.clone()\n",
    "    \n",
    "    # TODO: labels? edge_index of next timestep\n",
    "    assert timestep < torch.max(hg[\"admission\", \"did\", \"labitem\"].timestep), \"last timestep has not labels!\"\n",
    "    mask_next_t = torch.BoolTensor(hg[\"admission\", \"did\", \"labitem\"].timestep == (timestep+1))\n",
    "    sub_hg.labels = hg[\"admission\", \"did\", \"labitem\"].edge_index[:, mask_next_t].clone()\n",
    "    \n",
    "    sub_hg = T.ToUndirected()(sub_hg)\n",
    "    return sub_hg\n",
    "\n",
    "subgraph_temp = get_subgraph_by_timestep(train_hgs[0], timestep=0)\n",
    "subgraph_temp"
   ]
  },
  {
   "cell_type": "code",
   "execution_count": 13,
   "metadata": {},
   "outputs": [
    {
     "data": {
      "text/plain": [
       "HeteroData(\n",
       "  labels=[2, 3961],\n",
       "  \u001b[1madmission\u001b[0m={\n",
       "    node_id=[128],\n",
       "    x=[128, 8]\n",
       "  },\n",
       "  \u001b[1mlabitem\u001b[0m={\n",
       "    node_id=[753],\n",
       "    x=[753, 2]\n",
       "  },\n",
       "  \u001b[1m(admission, did, labitem)\u001b[0m={\n",
       "    edge_index=[2, 5154],\n",
       "    x=[5154, 2]\n",
       "  },\n",
       "  \u001b[1m(labitem, rev_did, admission)\u001b[0m={\n",
       "    edge_index=[2, 5154],\n",
       "    x=[5154, 2]\n",
       "  }\n",
       ")"
      ]
     },
     "execution_count": 13,
     "metadata": {},
     "output_type": "execute_result"
    }
   ],
   "source": [
    "train_set = MyOwnDataset(root_path=r\"/data/data2/041/datasets/mimic-iii-hgs/batch_size_128\", usage=\"train\")\n",
    "\n",
    "max_timestep = 20\n",
    "curr_subgraphs = [get_subgraph_by_timestep(train_set[0], timestep=t) for t in range(20)]\n",
    "curr_subgraphs[0]\n",
    "\n",
    "# curr_loader = DataLoader(curr_subgraphs, batch_size=max_timestep)\n",
    "# next(iter(curr_loader))"
   ]
  },
  {
   "cell_type": "code",
   "execution_count": 91,
   "metadata": {},
   "outputs": [
    {
     "data": {
      "text/plain": [
       "<Axes: xlabel='timestep', ylabel='edges'>"
      ]
     },
     "execution_count": 91,
     "metadata": {},
     "output_type": "execute_result"
    },
    {
     "data": {
      "image/png": "[encoded data removed]",
      "text/plain": [
       "<Figure size 350x250 with 1 Axes>"
      ]
     },
     "metadata": {},
     "output_type": "display_data"
    }
   ],
   "source": [
    "# pd.Series(\n",
    "#     data=[get_subgraph_by_timestep(train_hg, t)[\"admission\", \"did\", \"labitem\"].edge_index.shape[-1] for t in range(50)],\n",
    "#     index=range(50)\n",
    "# ).plot(kind='line', figsize=(3.5, 2.5), grid=True, ylabel=\"edges\", xlabel=\"timestep\")"
   ]
  },
  {
   "cell_type": "markdown",
   "metadata": {},
   "source": [
    "# edge unique check"
   ]
  },
  {
   "cell_type": "code",
   "execution_count": 95,
   "metadata": {},
   "outputs": [
    {
     "data": {
      "text/plain": [
       "True"
      ]
     },
     "execution_count": 95,
     "metadata": {},
     "output_type": "execute_result"
    }
   ],
   "source": [
    "def check_unique_by_admission(subgraph, admission: int):\n",
    "    mask_adm = (subgraph[\"admission\", \"did\", \"labitem\"].edge_index[0] == admission)\n",
    "    list_labitem = subgraph[\"admission\", \"did\", \"labitem\"].edge_index[:, mask_adm][-1]\n",
    "    \n",
    "    return len(torch.unique(list_labitem)) == len(list_labitem)\n",
    "\n",
    "# list_admission_labitem_not_unique_tiemstep_1 = [admission for admission in range(58976) if not check_unique_by_admission(sg, admission)]\n",
    "# len(list_admission_labitem_not_unique_tiem step_1)"
   ]
  },
  {
   "cell_type": "code",
   "execution_count": null,
   "metadata": {},
   "outputs": [],
   "source": []
  }
 ],
 "metadata": {
  "kernelspec": {
   "display_name": "Python 3 (ipykernel)",
   "language": "python",
   "name": "python3"
  },
  "language_info": {
   "codemirror_mode": {
    "name": "ipython",
    "version": 3
   },
   "file_extension": ".py",
   "mimetype": "text/x-python",
   "name": "python",
   "nbconvert_exporter": "python",
   "pygments_lexer": "ipython3",
   "version": "3.9.0"
  }
 },
 "nbformat": 4,
 "nbformat_minor": 2
}
